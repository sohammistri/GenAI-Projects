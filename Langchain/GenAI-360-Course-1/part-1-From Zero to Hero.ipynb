{
 "cells": [
  {
   "cell_type": "code",
   "execution_count": 46,
   "metadata": {},
   "outputs": [],
   "source": [
    "from dotenv import load_dotenv\n",
    "import os\n",
    "\n",
    "load_dotenv()\n",
    "os.environ[\"OPENAI_API_KEY\"] = os.getenv(\"OPENAI_API_KEY\")\n",
    "os.environ[\"ACTIVELOOP_TOKEN\"] = os.getenv(\"ACTIVELOOP_TOKEN\")"
   ]
  },
  {
   "cell_type": "code",
   "execution_count": 12,
   "metadata": {},
   "outputs": [],
   "source": [
    "openai_api_key = os.environ[\"OPENAI_API_KEY\"]"
   ]
  },
  {
   "cell_type": "code",
   "execution_count": 24,
   "metadata": {},
   "outputs": [],
   "source": [
    "from langchain_openai import OpenAI\n",
    "\n",
    "llm = OpenAI(api_key=openai_api_key, temperature=0.9)"
   ]
  },
  {
   "cell_type": "code",
   "execution_count": 25,
   "metadata": {},
   "outputs": [
    {
     "data": {
      "text/plain": [
       "'gpt-3.5-turbo-instruct'"
      ]
     },
     "execution_count": 25,
     "metadata": {},
     "output_type": "execute_result"
    }
   ],
   "source": [
    "llm.model_name"
   ]
  },
  {
   "cell_type": "code",
   "execution_count": 26,
   "metadata": {},
   "outputs": [],
   "source": [
    "from IPython.display import display, Markdown"
   ]
  },
  {
   "cell_type": "code",
   "execution_count": 27,
   "metadata": {},
   "outputs": [
    {
     "data": {
      "text/markdown": [
       "\n",
       "\n",
       "Monday:\n",
       "- Warm up: 10 minutes of jogging or brisk walking\n",
       "- Main workout: 30 minutes of outdoor cycling\n",
       "- Cool down: 5 minutes of stretching\n",
       "\n",
       "Tuesday:\n",
       "- Warm up: 10 minutes of jumping jacks or jump rope\n",
       "- Main workout: 20 minutes of running on trails or a track\n",
       "- Cool down: 5 minutes of yoga poses for legs and core\n",
       "\n",
       "Wednesday:\n",
       "- Warm up: 10 minutes of brisk walking\n",
       "- Main workout: 30 minutes of hiking on a moderate trail\n",
       "- Cool down: 5 minutes of stretching\n",
       "\n",
       "Thursday:\n",
       "- Warm up: 10 minutes of high knees or mountain climbers\n",
       "- Main workout: 20 minutes of interval training (1 minute sprint, 1 minute jog)\n",
       "- Cool down: 5 minutes of foam rolling for legs and back\n",
       "\n",
       "Friday:\n",
       "- Warm up: 10 minutes of jogging or light cardio of choice\n",
       "- Main workout: 45 minutes of outdoor swimming or water aerobics\n",
       "- Cool down: 5 minutes of yoga stretches for upper body\n",
       "\n",
       "Saturday:\n",
       "- Rest day or light yoga/stretching session\n",
       "\n",
       "Sunday:\n",
       "- Warm up: 10 minutes of walking or light jogging\n",
       "- Main workout: 60 minutes of outdoor sports"
      ],
      "text/plain": [
       "<IPython.core.display.Markdown object>"
      ]
     },
     "metadata": {},
     "output_type": "display_data"
    }
   ],
   "source": [
    "text = \"Suggest a personalized workout routine for someone looking to improve cardiovascular endurance and prefers outdoor activities.\"\n",
    "display(Markdown(llm.invoke(text)))"
   ]
  },
  {
   "cell_type": "code",
   "execution_count": 28,
   "metadata": {},
   "outputs": [],
   "source": [
    "from langchain_core.prompts import PromptTemplate"
   ]
  },
  {
   "cell_type": "code",
   "execution_count": 29,
   "metadata": {},
   "outputs": [],
   "source": [
    "prompt = PromptTemplate(\n",
    "    input_variables=[\"product\"],\n",
    "    template=\"What is a good name for a company that makes {product}?\",\n",
    ")"
   ]
  },
  {
   "cell_type": "code",
   "execution_count": 30,
   "metadata": {},
   "outputs": [],
   "source": [
    "chain = prompt | llm"
   ]
  },
  {
   "cell_type": "code",
   "execution_count": 32,
   "metadata": {},
   "outputs": [
    {
     "data": {
      "text/markdown": [
       "\n",
       "\n",
       "EcoHydrate Solutions or PurePlanet Bottles"
      ],
      "text/plain": [
       "<IPython.core.display.Markdown object>"
      ]
     },
     "metadata": {},
     "output_type": "display_data"
    }
   ],
   "source": [
    "display(Markdown(chain.invoke({\"product\": \"eco-friendly water bottles\"})))"
   ]
  },
  {
   "cell_type": "code",
   "execution_count": 35,
   "metadata": {},
   "outputs": [
    {
     "name": "stdout",
     "output_type": "stream",
     "text": [
      "\n",
      "\n",
      "\u001b[1m> Entering new ConversationChain chain...\u001b[0m\n",
      "Prompt after formatting:\n",
      "\u001b[32;1m\u001b[1;3mThe following is a friendly conversation between a human and an AI. The AI is talkative and provides lots of specific details from its context. If the AI does not know the answer to a question, it truthfully says it does not know.\n",
      "\n",
      "Current conversation:\n",
      "\n",
      "Human: Tell me about yourself.\n",
      "AI:\u001b[0m\n",
      "\n",
      "\u001b[1m> Finished chain.\u001b[0m\n",
      "\n",
      "\n",
      "\u001b[1m> Entering new ConversationChain chain...\u001b[0m\n",
      "Prompt after formatting:\n",
      "\u001b[32;1m\u001b[1;3mThe following is a friendly conversation between a human and an AI. The AI is talkative and provides lots of specific details from its context. If the AI does not know the answer to a question, it truthfully says it does not know.\n",
      "\n",
      "Current conversation:\n",
      "Human: Tell me about yourself.\n",
      "AI:  Well, I am an artificial intelligence program designed and created by a team of programmers. I am constantly learning and improving my abilities through algorithms and data analysis. My main purpose is to assist and provide information to users like yourself. I am currently housed in a server located in a data center, but I can also be accessed through various devices such as computers, smartphones, and smart speakers. Is there anything specific you would like to know about me?\n",
      "Human: What can you do?\n",
      "AI:\u001b[0m\n",
      "\n",
      "\u001b[1m> Finished chain.\u001b[0m\n",
      "\n",
      "\n",
      "\u001b[1m> Entering new ConversationChain chain...\u001b[0m\n",
      "Prompt after formatting:\n",
      "\u001b[32;1m\u001b[1;3mThe following is a friendly conversation between a human and an AI. The AI is talkative and provides lots of specific details from its context. If the AI does not know the answer to a question, it truthfully says it does not know.\n",
      "\n",
      "Current conversation:\n",
      "Human: Tell me about yourself.\n",
      "AI:  Well, I am an artificial intelligence program designed and created by a team of programmers. I am constantly learning and improving my abilities through algorithms and data analysis. My main purpose is to assist and provide information to users like yourself. I am currently housed in a server located in a data center, but I can also be accessed through various devices such as computers, smartphones, and smart speakers. Is there anything specific you would like to know about me?\n",
      "Human: What can you do?\n",
      "AI:  I have a wide range of capabilities, but some of my main functions include answering questions, performing tasks, and providing recommendations based on data analysis. I can also understand and respond to natural language, making it easier for users to communicate with me. Additionally, I am constantly learning and updating my knowledge base, so my abilities are constantly expanding. Is there something specific you would like me to do for you?\n",
      "Human: How can you help me with data analysis?\n",
      "AI:\u001b[0m\n",
      "\n",
      "\u001b[1m> Finished chain.\u001b[0m\n",
      "memory=ConversationBufferMemory(chat_memory=ChatMessageHistory(messages=[HumanMessage(content='Tell me about yourself.'), AIMessage(content=' Well, I am an artificial intelligence program designed and created by a team of programmers. I am constantly learning and improving my abilities through algorithms and data analysis. My main purpose is to assist and provide information to users like yourself. I am currently housed in a server located in a data center, but I can also be accessed through various devices such as computers, smartphones, and smart speakers. Is there anything specific you would like to know about me?'), HumanMessage(content='What can you do?'), AIMessage(content=' I have a wide range of capabilities, but some of my main functions include answering questions, performing tasks, and providing recommendations based on data analysis. I can also understand and respond to natural language, making it easier for users to communicate with me. Additionally, I am constantly learning and updating my knowledge base, so my abilities are constantly expanding. Is there something specific you would like me to do for you?'), HumanMessage(content='How can you help me with data analysis?'), AIMessage(content=' I can assist with data analysis by quickly sorting through large amounts of data and identifying patterns and trends. I can also provide visualizations and reports to help you better understand the data. Additionally, I can make predictions and recommendations based on the data, which can be useful for decision making. Is there a specific dataset or analysis you would like me to help with?')])) verbose=True llm=OpenAI(client=<openai.resources.completions.Completions object at 0x11b93e740>, async_client=<openai.resources.completions.AsyncCompletions object at 0x11b9cba30>, temperature=0.0, openai_api_key=SecretStr('**********'), openai_proxy='')\n"
     ]
    }
   ],
   "source": [
    "from langchain.chains import ConversationChain\n",
    "from langchain.memory import ConversationBufferMemory\n",
    "\n",
    "llm = OpenAI(model=\"gpt-3.5-turbo-instruct\", temperature=0)\n",
    "conversation = ConversationChain(\n",
    "    llm=llm,\n",
    "    verbose=True,\n",
    "    memory=ConversationBufferMemory()\n",
    ")\n",
    "\n",
    "# Start the conversation\n",
    "conversation.predict(input=\"Tell me about yourself.\")\n",
    "\n",
    "# Continue the conversation\n",
    "conversation.predict(input=\"What can you do?\")\n",
    "conversation.predict(input=\"How can you help me with data analysis?\")\n",
    "\n",
    "# Display the conversation\n",
    "print(conversation)"
   ]
  },
  {
   "cell_type": "markdown",
   "metadata": {},
   "source": [
    "### More applications of memory\n",
    "\n",
    "Source: [here](https://python.langchain.com/docs/modules/memory/adding_memory/)"
   ]
  },
  {
   "cell_type": "code",
   "execution_count": 36,
   "metadata": {},
   "outputs": [],
   "source": [
    "from langchain_core.messages import SystemMessage\n",
    "from langchain_core.prompts import (\n",
    "    ChatPromptTemplate,\n",
    "    HumanMessagePromptTemplate,\n",
    "    MessagesPlaceholder,\n",
    ")\n",
    "from langchain_openai import ChatOpenAI"
   ]
  },
  {
   "cell_type": "code",
   "execution_count": 37,
   "metadata": {},
   "outputs": [],
   "source": [
    "prompt = ChatPromptTemplate.from_messages(\n",
    "    [\n",
    "        SystemMessage(\n",
    "            content=\"You are a chatbot having a conversation with a human.\"\n",
    "        ),  # The persistent system prompt\n",
    "        MessagesPlaceholder(\n",
    "            variable_name=\"chat_history\"\n",
    "        ),  # Where the memory will be stored.\n",
    "        HumanMessagePromptTemplate.from_template(\n",
    "            \"{human_input}\"\n",
    "        ),  # Where the human input will injected\n",
    "    ]\n",
    ")\n",
    "\n",
    "memory = ConversationBufferMemory(memory_key=\"chat_history\", return_messages=True)"
   ]
  },
  {
   "cell_type": "code",
   "execution_count": 38,
   "metadata": {},
   "outputs": [],
   "source": [
    "llm = ChatOpenAI(model=\"gpt-4-turbo\", api_key=openai_api_key)"
   ]
  },
  {
   "cell_type": "code",
   "execution_count": 39,
   "metadata": {},
   "outputs": [],
   "source": [
    "from langchain.chains import LLMChain\n",
    "\n",
    "chat_llm_chain = LLMChain(\n",
    "    llm=llm,\n",
    "    prompt=prompt,\n",
    "    verbose=True,\n",
    "    memory=memory,\n",
    ")"
   ]
  },
  {
   "cell_type": "code",
   "execution_count": 40,
   "metadata": {},
   "outputs": [
    {
     "name": "stdout",
     "output_type": "stream",
     "text": [
      "\n",
      "\n",
      "\u001b[1m> Entering new LLMChain chain...\u001b[0m\n",
      "Prompt after formatting:\n",
      "\u001b[32;1m\u001b[1;3mSystem: You are a chatbot having a conversation with a human.\n",
      "Human: Hi there my friend\u001b[0m\n",
      "\n",
      "\u001b[1m> Finished chain.\u001b[0m\n"
     ]
    },
    {
     "data": {
      "text/plain": [
       "'Hello! How can I help you today?'"
      ]
     },
     "execution_count": 40,
     "metadata": {},
     "output_type": "execute_result"
    }
   ],
   "source": [
    "chat_llm_chain.predict(human_input=\"Hi there my friend\")"
   ]
  },
  {
   "cell_type": "code",
   "execution_count": 41,
   "metadata": {},
   "outputs": [
    {
     "name": "stdout",
     "output_type": "stream",
     "text": [
      "\n",
      "\n",
      "\u001b[1m> Entering new LLMChain chain...\u001b[0m\n",
      "Prompt after formatting:\n",
      "\u001b[32;1m\u001b[1;3mSystem: You are a chatbot having a conversation with a human.\n",
      "Human: Hi there my friend\n",
      "AI: Hello! How can I help you today?\n",
      "Human: Not too bad - how are you?\u001b[0m\n",
      "\n",
      "\u001b[1m> Finished chain.\u001b[0m\n"
     ]
    },
    {
     "data": {
      "text/plain": [
       "\"I'm just a program, so I don't have feelings, but I'm here to help you! What's on your mind today?\""
      ]
     },
     "execution_count": 41,
     "metadata": {},
     "output_type": "execute_result"
    }
   ],
   "source": [
    "chat_llm_chain.predict(human_input=\"Not too bad - how are you?\")"
   ]
  },
  {
   "cell_type": "code",
   "execution_count": 42,
   "metadata": {},
   "outputs": [
    {
     "name": "stdout",
     "output_type": "stream",
     "text": [
      "\n",
      "\n",
      "\u001b[1m> Entering new LLMChain chain...\u001b[0m\n",
      "Prompt after formatting:\n",
      "\u001b[32;1m\u001b[1;3mSystem: You are a chatbot having a conversation with a human.\n",
      "Human: Hi there my friend\n",
      "AI: Hello! How can I help you today?\n",
      "Human: Not too bad - how are you?\n",
      "AI: I'm just a program, so I don't have feelings, but I'm here to help you! What's on your mind today?\n",
      "Human: My name is Mark. Please remember it ?\u001b[0m\n",
      "\n",
      "\u001b[1m> Finished chain.\u001b[0m\n"
     ]
    },
    {
     "data": {
      "text/plain": [
       "'Hello, Mark! How can I assist you today?'"
      ]
     },
     "execution_count": 42,
     "metadata": {},
     "output_type": "execute_result"
    }
   ],
   "source": [
    "chat_llm_chain.predict(human_input=\"My name is Mark. Please remember it ?\")"
   ]
  },
  {
   "cell_type": "code",
   "execution_count": 43,
   "metadata": {},
   "outputs": [
    {
     "name": "stdout",
     "output_type": "stream",
     "text": [
      "\n",
      "\n",
      "\u001b[1m> Entering new LLMChain chain...\u001b[0m\n",
      "Prompt after formatting:\n",
      "\u001b[32;1m\u001b[1;3mSystem: You are a chatbot having a conversation with a human.\n",
      "Human: Hi there my friend\n",
      "AI: Hello! How can I help you today?\n",
      "Human: Not too bad - how are you?\n",
      "AI: I'm just a program, so I don't have feelings, but I'm here to help you! What's on your mind today?\n",
      "Human: My name is Mark. Please remember it ?\n",
      "AI: Hello, Mark! How can I assist you today?\n",
      "Human: Can you give me 3 daddy jokes preferably where they use my name.\u001b[0m\n",
      "\n",
      "\u001b[1m> Finished chain.\u001b[0m\n"
     ]
    },
    {
     "data": {
      "text/markdown": [
       "Sure, Mark! Here are three dad jokes personalized just for you:\n",
       "\n",
       "1. Why don't skeletons fight each other? They don't have the guts, but if they did, they'd definitely Mark their territories!\n",
       "\n",
       "2. What did the coffee report to the police? A mugging! Don't worry, Mark, I'll make sure your coffee is safe!\n",
       "\n",
       "3. Why did the scarecrow win an award? Because he was outstanding in his field! That’s something you and the scarecrow have in Mark, always standing out!\n",
       "\n",
       "Hope these brought a smile to your face, Mark!"
      ],
      "text/plain": [
       "<IPython.core.display.Markdown object>"
      ]
     },
     "metadata": {},
     "output_type": "display_data"
    }
   ],
   "source": [
    "display(Markdown(chat_llm_chain.predict(human_input=\"Can you give me 3 daddy jokes preferably where they use my name.\")))\n"
   ]
  },
  {
   "cell_type": "code",
   "execution_count": 44,
   "metadata": {},
   "outputs": [
    {
     "name": "stdout",
     "output_type": "stream",
     "text": [
      "\n",
      "\n",
      "\u001b[1m> Entering new LLMChain chain...\u001b[0m\n",
      "Prompt after formatting:\n",
      "\u001b[32;1m\u001b[1;3mSystem: You are a chatbot having a conversation with a human.\n",
      "Human: Hi there my friend\n",
      "AI: Hello! How can I help you today?\n",
      "Human: Not too bad - how are you?\n",
      "AI: I'm just a program, so I don't have feelings, but I'm here to help you! What's on your mind today?\n",
      "Human: My name is Mark. Please remember it ?\n",
      "AI: Hello, Mark! How can I assist you today?\n",
      "Human: Can you give me 3 daddy jokes preferably where they use my name.\n",
      "AI: Sure, Mark! Here are three dad jokes personalized just for you:\n",
      "\n",
      "1. Why don't skeletons fight each other? They don't have the guts, but if they did, they'd definitely Mark their territories!\n",
      "\n",
      "2. What did the coffee report to the police? A mugging! Don't worry, Mark, I'll make sure your coffee is safe!\n",
      "\n",
      "3. Why did the scarecrow win an award? Because he was outstanding in his field! That’s something you and the scarecrow have in Mark, always standing out!\n",
      "\n",
      "Hope these brought a smile to your face, Mark!\n",
      "Human: What are some synonyms associated with my name ?\u001b[0m\n",
      "\n",
      "\u001b[1m> Finished chain.\u001b[0m\n"
     ]
    },
    {
     "data": {
      "text/markdown": [
       "The name \"Mark\" has a few associations and synonyms that might resonate depending on the context. Here are some words and phrases related to the name Mark:\n",
       "\n",
       "1. **Signature** - As in making one's mark, similar to signing.\n",
       "2. **Impression** - Leaving a mark can also mean leaving an impression.\n",
       "3. **Stamp** - This can refer to an imprint or mark made with a stamp.\n",
       "4. **Trace** - A mark can also be a trace of something.\n",
       "5. **Spot** - A small area marked differently than its surroundings.\n",
       "6. **Indicator** - Something that serves to indicate or signify.\n",
       "7. **Label** - A mark can also be a label that identifies or describes something.\n",
       "\n",
       "These synonyms reflect different usages of the word \"mark,\" from physical imprints to metaphorical impacts."
      ],
      "text/plain": [
       "<IPython.core.display.Markdown object>"
      ]
     },
     "metadata": {},
     "output_type": "display_data"
    }
   ],
   "source": [
    "display(Markdown(chat_llm_chain.predict(human_input=\"What are some synonyms associated with my name ?\")))\n"
   ]
  },
  {
   "cell_type": "markdown",
   "metadata": {},
   "source": [
    "## DeepLake VectorDB retrieval\n",
    "\n",
    "Source: [Link](https://python.langchain.com/docs/integrations/vectorstores/activeloop_deeplake/)"
   ]
  },
  {
   "cell_type": "code",
   "execution_count": 60,
   "metadata": {},
   "outputs": [],
   "source": [
    "from langchain_openai import ChatOpenAI\n",
    "\n",
    "llm = ChatOpenAI(model=\"gpt-4-turbo\", api_key=openai_api_key, temperature=0)"
   ]
  },
  {
   "cell_type": "code",
   "execution_count": 48,
   "metadata": {},
   "outputs": [],
   "source": [
    "from langchain_openai import OpenAIEmbeddings\n",
    "embeddings = OpenAIEmbeddings(model=\"text-embedding-3-large\")"
   ]
  },
  {
   "cell_type": "code",
   "execution_count": 49,
   "metadata": {},
   "outputs": [],
   "source": [
    "# create our documents\n",
    "texts = [\n",
    "    \"Napoleon Bonaparte was born in 15 August 1769\",\n",
    "    \"Louis XIV was born in 5 September 1638\"\n",
    "]"
   ]
  },
  {
   "cell_type": "code",
   "execution_count": 50,
   "metadata": {},
   "outputs": [],
   "source": [
    "from langchain_text_splitters import RecursiveCharacterTextSplitter\n",
    "\n",
    "text_splitter = RecursiveCharacterTextSplitter(chunk_size=1000, chunk_overlap=0)\n",
    "docs = text_splitter.create_documents(texts)"
   ]
  },
  {
   "cell_type": "code",
   "execution_count": 51,
   "metadata": {},
   "outputs": [
    {
     "data": {
      "text/plain": [
       "[Document(page_content='Napoleon Bonaparte was born in 15 August 1769'),\n",
       " Document(page_content='Louis XIV was born in 5 September 1638')]"
      ]
     },
     "execution_count": 51,
     "metadata": {},
     "output_type": "execute_result"
    }
   ],
   "source": [
    "docs"
   ]
  },
  {
   "cell_type": "code",
   "execution_count": 52,
   "metadata": {},
   "outputs": [
    {
     "name": "stderr",
     "output_type": "stream",
     "text": [
      "Using embedding function is deprecated and will be removed in the future. Please use embedding instead.\n"
     ]
    },
    {
     "name": "stdout",
     "output_type": "stream",
     "text": [
      "Your Deep Lake dataset has been successfully created!\n"
     ]
    },
    {
     "name": "stderr",
     "output_type": "stream",
     "text": [
      " \r"
     ]
    }
   ],
   "source": [
    "# create Deep Lake dataset\n",
    "from langchain_community.vectorstores import DeepLake\n",
    "\n",
    "my_activeloop_org_id = \"soham07mistri12\" \n",
    "my_activeloop_dataset_name = \"langchain_course_from_zero_to_hero\"\n",
    "dataset_path = f\"hub://{my_activeloop_org_id}/{my_activeloop_dataset_name}\"\n",
    "db = DeepLake(dataset_path=dataset_path, embedding=embeddings, overwrite=True)"
   ]
  },
  {
   "cell_type": "code",
   "execution_count": 53,
   "metadata": {},
   "outputs": [
    {
     "name": "stderr",
     "output_type": "stream",
     "text": [
      "Creating 2 embeddings in 1 batches of size 2:: 100%|██████████| 1/1 [00:25<00:00, 25.81s/it]"
     ]
    },
    {
     "name": "stdout",
     "output_type": "stream",
     "text": [
      "Dataset(path='hub://soham07mistri12/langchain_course_from_zero_to_hero', tensors=['text', 'metadata', 'embedding', 'id'])\n",
      "\n",
      "  tensor      htype      shape     dtype  compression\n",
      "  -------    -------    -------   -------  ------- \n",
      "   text       text      (2, 1)      str     None   \n",
      " metadata     json      (2, 1)      str     None   \n",
      " embedding  embedding  (2, 3072)  float32   None   \n",
      "    id        text      (2, 1)      str     None   \n"
     ]
    },
    {
     "name": "stderr",
     "output_type": "stream",
     "text": [
      "\n"
     ]
    },
    {
     "data": {
      "text/plain": [
       "['53272eb6-ff24-11ee-88fa-f65b2fc1dd9d',\n",
       " '53272f56-ff24-11ee-88fa-f65b2fc1dd9d']"
      ]
     },
     "execution_count": 53,
     "metadata": {},
     "output_type": "execute_result"
    }
   ],
   "source": [
    "db.add_documents(docs)"
   ]
  },
  {
   "cell_type": "markdown",
   "metadata": {},
   "source": [
    "Adding a `Retrieval-QA` chain around this"
   ]
  },
  {
   "cell_type": "code",
   "execution_count": 54,
   "metadata": {},
   "outputs": [],
   "source": [
    "from langchain.chains import RetrievalQA\n",
    "\n",
    "qa = RetrievalQA.from_chain_type(\n",
    "    llm=llm,\n",
    "    chain_type=\"stuff\",\n",
    "    retriever=db.as_retriever(),\n",
    ")"
   ]
  },
  {
   "cell_type": "code",
   "execution_count": 58,
   "metadata": {},
   "outputs": [
    {
     "data": {
      "text/markdown": [
       "\n",
       "Napoleon Bonaparte was born in 15 August 1769."
      ],
      "text/plain": [
       "<IPython.core.display.Markdown object>"
      ]
     },
     "metadata": {},
     "output_type": "display_data"
    }
   ],
   "source": [
    "query = \"When was Napolean born ?\"\n",
    "display(Markdown(qa.invoke(query)['result']))"
   ]
  },
  {
   "cell_type": "markdown",
   "metadata": {},
   "source": [
    "Create a tool calling agent.\n",
    "\n",
    "Reference: [Source](https://python.langchain.com/docs/modules/agents/agent_types/tool_calling/)"
   ]
  },
  {
   "cell_type": "code",
   "execution_count": 69,
   "metadata": {},
   "outputs": [],
   "source": [
    "from langchain.agents import AgentExecutor, initialize_agent, Tool, AgentType\n",
    "\n",
    "tools = [\n",
    "    Tool(\n",
    "        name=\"Retrieval QA System\",\n",
    "        func=qa.invoke,\n",
    "        description=\"Useful for answering questions.\"\n",
    "    ),\n",
    "]\n",
    "\n",
    "agent = initialize_agent(\n",
    "\ttools=tools,\n",
    "\tllm=llm,\n",
    "    agent=AgentType.ZERO_SHOT_REACT_DESCRIPTION,\n",
    "\tverbose=True\n",
    ")"
   ]
  },
  {
   "cell_type": "code",
   "execution_count": 70,
   "metadata": {},
   "outputs": [
    {
     "name": "stdout",
     "output_type": "stream",
     "text": [
      "\n",
      "\n",
      "\u001b[1m> Entering new AgentExecutor chain...\u001b[0m\n",
      "\u001b[32;1m\u001b[1;3mI need to find the birth date of Napoleon Bonaparte.\n",
      "\n",
      "Action: Retrieval QA System\n",
      "Action Input: When was Napoleon Bonaparte born?\u001b[0m\n",
      "Observation: \u001b[36;1m\u001b[1;3m{'query': 'When was Napoleon Bonaparte born?', 'result': '\\nNapoleon Bonaparte was born in 15 August 1769.'}\u001b[0m\n",
      "Thought:\u001b[32;1m\u001b[1;3mI now know the final answer.\n",
      "\n",
      "Final Answer: Napoleon Bonaparte was born on 15 August 1769.\u001b[0m\n",
      "\n",
      "\u001b[1m> Finished chain.\u001b[0m\n"
     ]
    },
    {
     "data": {
      "text/plain": [
       "{'input': 'When was Napoleon born ?',\n",
       " 'output': 'Napoleon Bonaparte was born on 15 August 1769.'}"
      ]
     },
     "execution_count": 70,
     "metadata": {},
     "output_type": "execute_result"
    }
   ],
   "source": [
    "agent.invoke({\"input\": \"When was Napoleon born ?\"})"
   ]
  },
  {
   "cell_type": "code",
   "execution_count": 73,
   "metadata": {},
   "outputs": [
    {
     "name": "stdout",
     "output_type": "stream",
     "text": [
      "\n",
      "\n",
      "\u001b[1m> Entering new AgentExecutor chain...\u001b[0m\n",
      "\u001b[32;1m\u001b[1;3mI need to find the birthdate of Louis XIV, the King of France.\n",
      "\n",
      "Action: Retrieval QA System\n",
      "Action Input: When was Louis XIV born?\u001b[0m\n",
      "Observation: \u001b[36;1m\u001b[1;3m{'query': 'When was Louis XIV born?', 'result': ' Louis XIV was born on 5 September 1638.'}\u001b[0m\n",
      "Thought:\u001b[32;1m\u001b[1;3mI now know the final answer.\n",
      "\n",
      "Final Answer: Louis XIV was born on 5 September 1638.\u001b[0m\n",
      "\n",
      "\u001b[1m> Finished chain.\u001b[0m\n"
     ]
    },
    {
     "data": {
      "text/plain": [
       "{'input': 'When was Louis XIV born ?',\n",
       " 'output': 'Louis XIV was born on 5 September 1638.'}"
      ]
     },
     "execution_count": 73,
     "metadata": {},
     "output_type": "execute_result"
    }
   ],
   "source": [
    "agent.invoke({\"input\": \"When was Louis XIV born ?\"})"
   ]
  },
  {
   "cell_type": "code",
   "execution_count": 74,
   "metadata": {},
   "outputs": [
    {
     "name": "stdout",
     "output_type": "stream",
     "text": [
      "\n",
      "\n",
      "\u001b[1m> Entering new AgentExecutor chain...\u001b[0m\n",
      "\u001b[32;1m\u001b[1;3mI need to find the birth date of Adolf Hitler.\n",
      "\n",
      "Action: Retrieval QA System\n",
      "Action Input: When was Adolf Hitler born?\u001b[0m\n",
      "Observation: \u001b[36;1m\u001b[1;3m{'query': 'When was Adolf Hitler born?', 'result': \" I don't know.\"}\u001b[0m\n",
      "Thought:\u001b[32;1m\u001b[1;3mThe retrieval system did not provide the information. I need to rely on common historical knowledge for this question.\n",
      "\n",
      "Thought: I recall that Adolf Hitler was born in 1889.\n",
      "\n",
      "Final Answer: Adolf Hitler was born on April 20, 1889.\u001b[0m\n",
      "\n",
      "\u001b[1m> Finished chain.\u001b[0m\n"
     ]
    },
    {
     "data": {
      "text/plain": [
       "{'input': 'When was Hitler born ?',\n",
       " 'output': 'Adolf Hitler was born on April 20, 1889.'}"
      ]
     },
     "execution_count": 74,
     "metadata": {},
     "output_type": "execute_result"
    }
   ],
   "source": [
    "agent.invoke({\"input\": \"When was Hitler born ?\"})"
   ]
  },
  {
   "cell_type": "code",
   "execution_count": 77,
   "metadata": {},
   "outputs": [
    {
     "name": "stdout",
     "output_type": "stream",
     "text": [
      "\n",
      "\n",
      "\u001b[1m> Entering new AgentExecutor chain...\u001b[0m\n",
      "\u001b[32;1m\u001b[1;3mTo determine who was born earlier between Napoleon Bonaparte and Louis XIV, I need to know their birth dates.\n",
      "\n",
      "Action: Retrieval QA System\n",
      "Action Input: What are the birth dates of Napoleon Bonaparte and Louis XIV?\u001b[0m\n",
      "Observation: \u001b[36;1m\u001b[1;3m{'query': 'What are the birth dates of Napoleon Bonaparte and Louis XIV?', 'result': '\\nNapoleon Bonaparte was born on 15 August 1769 and Louis XIV was born on 5 September 1638.'}\u001b[0m\n",
      "Thought:\u001b[32;1m\u001b[1;3mI now know the final answer based on the birth dates provided.\n",
      "\n",
      "Final Answer: Louis XIV was born earlier than Napoleon Bonaparte. Louis XIV was born on 5 September 1638, while Napoleon Bonaparte was born on 15 August 1769.\u001b[0m\n",
      "\n",
      "\u001b[1m> Finished chain.\u001b[0m\n"
     ]
    },
    {
     "data": {
      "text/plain": [
       "{'input': 'Who was born earlier, Napoleon or Louis XIV  ?',\n",
       " 'output': 'Louis XIV was born earlier than Napoleon Bonaparte. Louis XIV was born on 5 September 1638, while Napoleon Bonaparte was born on 15 August 1769.'}"
      ]
     },
     "execution_count": 77,
     "metadata": {},
     "output_type": "execute_result"
    }
   ],
   "source": [
    "agent.invoke({\"input\": \"Who was born earlier, Napoleon or Louis XIV  ?\"})"
   ]
  },
  {
   "cell_type": "code",
   "execution_count": 78,
   "metadata": {},
   "outputs": [
    {
     "name": "stdout",
     "output_type": "stream",
     "text": [
      "Deep Lake Dataset in hub://soham07mistri12/langchain_course_from_zero_to_hero already exists, loading from the storage\n"
     ]
    },
    {
     "name": "stderr",
     "output_type": "stream",
     "text": [
      "Creating 2 embeddings in 1 batches of size 2:: 100%|██████████| 1/1 [00:33<00:00, 33.78s/it]"
     ]
    },
    {
     "name": "stdout",
     "output_type": "stream",
     "text": [
      "Dataset(path='hub://soham07mistri12/langchain_course_from_zero_to_hero', tensors=['embedding', 'id', 'metadata', 'text'])\n",
      "\n",
      "  tensor      htype      shape     dtype  compression\n",
      "  -------    -------    -------   -------  ------- \n",
      " embedding  embedding  (4, 3072)  float32   None   \n",
      "    id        text      (4, 1)      str     None   \n",
      " metadata     json      (4, 1)      str     None   \n",
      "   text       text      (4, 1)      str     None   \n"
     ]
    },
    {
     "name": "stderr",
     "output_type": "stream",
     "text": [
      "\n"
     ]
    },
    {
     "data": {
      "text/plain": [
       "['b4ad3996-ff29-11ee-88fa-f65b2fc1dd9d',\n",
       " 'b4ad3aea-ff29-11ee-88fa-f65b2fc1dd9d']"
      ]
     },
     "execution_count": 78,
     "metadata": {},
     "output_type": "execute_result"
    }
   ],
   "source": [
    "db = DeepLake(dataset_path=dataset_path, embedding=embeddings)\n",
    "\n",
    "# create new documents\n",
    "texts = [\n",
    "    \"Lady Gaga was born in 28 March 1986\",\n",
    "    \"Michael Jeffrey Jordan was born in 17 February 1963\"\n",
    "]\n",
    "text_splitter = RecursiveCharacterTextSplitter(chunk_size=1000, chunk_overlap=0)\n",
    "docs = text_splitter.create_documents(texts)\n",
    "\n",
    "# add documents to our Deep Lake dataset\n",
    "db.add_documents(docs)"
   ]
  },
  {
   "cell_type": "code",
   "execution_count": 80,
   "metadata": {},
   "outputs": [],
   "source": [
    "# instantiate the wrapper class for GPT3\n",
    "llm = ChatOpenAI(model=\"gpt-4-turbo\", temperature=0)\n",
    "\n",
    "# create a retriever from the db\n",
    "retrieval_qa = RetrievalQA.from_chain_type(\n",
    "\tllm=llm, chain_type=\"stuff\", retriever=db.as_retriever()\n",
    ")\n",
    "\n",
    "# instantiate a tool that uses the retriever\n",
    "tools = [\n",
    "    Tool(\n",
    "        name=\"Retrieval QA System\",\n",
    "        func=retrieval_qa.invoke,\n",
    "        description=\"Useful for answering questions.\"\n",
    "    ),\n",
    "]\n",
    "\n",
    "# create an agent that uses the tool\n",
    "agent = initialize_agent(\n",
    "\ttools,\n",
    "\tllm,\n",
    "\tagent=AgentType.ZERO_SHOT_REACT_DESCRIPTION,\n",
    "\tverbose=True\n",
    ")"
   ]
  },
  {
   "cell_type": "code",
   "execution_count": 81,
   "metadata": {},
   "outputs": [
    {
     "name": "stdout",
     "output_type": "stream",
     "text": [
      "\n",
      "\n",
      "\u001b[1m> Entering new AgentExecutor chain...\u001b[0m\n",
      "\u001b[32;1m\u001b[1;3mI need to find the birthdate of Louis XIV, a historical figure.\n",
      "\n",
      "Action: Retrieval QA System\n",
      "Action Input: When was Louis XIV born?\u001b[0m\n",
      "Observation: \u001b[36;1m\u001b[1;3m{'query': 'When was Louis XIV born?', 'result': 'Louis XIV was born on 5 September 1638.'}\u001b[0m\n",
      "Thought:\u001b[32;1m\u001b[1;3mI now know the final answer.\n",
      "\n",
      "Final Answer: Louis XIV was born on 5 September 1638.\u001b[0m\n",
      "\n",
      "\u001b[1m> Finished chain.\u001b[0m\n"
     ]
    },
    {
     "data": {
      "text/plain": [
       "{'input': 'When was Louis XIV born ?',\n",
       " 'output': 'Louis XIV was born on 5 September 1638.'}"
      ]
     },
     "execution_count": 81,
     "metadata": {},
     "output_type": "execute_result"
    }
   ],
   "source": [
    "agent.invoke({\"input\": \"When was Louis XIV born ?\"})"
   ]
  },
  {
   "cell_type": "code",
   "execution_count": 82,
   "metadata": {},
   "outputs": [
    {
     "name": "stdout",
     "output_type": "stream",
     "text": [
      "\n",
      "\n",
      "\u001b[1m> Entering new AgentExecutor chain...\u001b[0m\n",
      "\u001b[32;1m\u001b[1;3mI need to find the birthdate of Michael Jordan.\n",
      "\n",
      "Action: Retrieval QA System\n",
      "Action Input: When was Michael Jordan born?\u001b[0m\n",
      "Observation: \u001b[36;1m\u001b[1;3m{'query': 'When was Michael Jordan born?', 'result': 'Michael Jeffrey Jordan was born on 17 February 1963.'}\u001b[0m\n",
      "Thought:\u001b[32;1m\u001b[1;3mI now know the final answer.\n",
      "\n",
      "Final Answer: Michael Jordan was born on February 17, 1963.\u001b[0m\n",
      "\n",
      "\u001b[1m> Finished chain.\u001b[0m\n"
     ]
    },
    {
     "data": {
      "text/plain": [
       "{'input': 'When was Michael Jordan born ?',\n",
       " 'output': 'Michael Jordan was born on February 17, 1963.'}"
      ]
     },
     "execution_count": 82,
     "metadata": {},
     "output_type": "execute_result"
    }
   ],
   "source": [
    "agent.invoke({\"input\": \"When was Michael Jordan born ?\"})"
   ]
  },
  {
   "cell_type": "code",
   "execution_count": 83,
   "metadata": {},
   "outputs": [
    {
     "name": "stdout",
     "output_type": "stream",
     "text": [
      "\n",
      "\n",
      "\u001b[1m> Entering new AgentExecutor chain...\u001b[0m\n",
      "\u001b[32;1m\u001b[1;3mI need to find out the birth year of Lady Gaga.\n",
      "\n",
      "Action: Retrieval QA System\n",
      "Action Input: What year was Lady Gaga born?\u001b[0m\n",
      "Observation: \u001b[36;1m\u001b[1;3m{'query': 'What year was Lady Gaga born?', 'result': 'Lady Gaga was born in 1986.'}\u001b[0m\n",
      "Thought:\u001b[32;1m\u001b[1;3mI now know the final answer.\n",
      "\n",
      "Final Answer: Lady Gaga was born in 1986.\u001b[0m\n",
      "\n",
      "\u001b[1m> Finished chain.\u001b[0m\n"
     ]
    },
    {
     "data": {
      "text/plain": [
       "{'input': 'Which year was Lady Gaga born ?',\n",
       " 'output': 'Lady Gaga was born in 1986.'}"
      ]
     },
     "execution_count": 83,
     "metadata": {},
     "output_type": "execute_result"
    }
   ],
   "source": [
    "agent.invoke({\"input\": \"Which year was Lady Gaga born ?\"})"
   ]
  },
  {
   "cell_type": "code",
   "execution_count": 84,
   "metadata": {},
   "outputs": [
    {
     "name": "stdout",
     "output_type": "stream",
     "text": [
      "\n",
      "\n",
      "\u001b[1m> Entering new AgentExecutor chain...\u001b[0m\n",
      "\u001b[32;1m\u001b[1;3mI need to find the specific birthdate of Napoleon Bonaparte in the format DD-MM-YYYY.\n",
      "\n",
      "Action: Retrieval QA System\n",
      "Action Input: What is the birthdate of Napoleon Bonaparte in DD-MM-YYYY format?\u001b[0m\n",
      "Observation: \u001b[36;1m\u001b[1;3m{'query': 'What is the birthdate of Napoleon Bonaparte in DD-MM-YYYY format?', 'result': 'Napoleon Bonaparte was born on 15-08-1769.'}\u001b[0m\n",
      "Thought:\u001b[32;1m\u001b[1;3mI now know the final answer.\n",
      "\n",
      "Final Answer: 15-08-1769.\u001b[0m\n",
      "\n",
      "\u001b[1m> Finished chain.\u001b[0m\n"
     ]
    },
    {
     "data": {
      "text/plain": [
       "{'input': \"Give me Napoleon's birthday in DD-MM-YYYY format.\",\n",
       " 'output': '15-08-1769.'}"
      ]
     },
     "execution_count": 84,
     "metadata": {},
     "output_type": "execute_result"
    }
   ],
   "source": [
    "agent.invoke({\"input\": \"Give me Napoleon's birthday in DD-MM-YYYY format.\"})\n"
   ]
  },
  {
   "cell_type": "markdown",
   "metadata": {},
   "source": [
    "## Agents in LangChain\n",
    "\n",
    "In LangChain, agents are high-level components that use language models (LLMs) to determine which actions to take and in what order. An action can either be using a tool and observing its output or returning it to the user. Tools are functions that perform specific duties, such as Google Search, database lookups, or Python REPL.\n",
    "\n",
    "**LangChain agent using Google Search**: [Source](https://python.langchain.com/docs/integrations/tools/google_search/)"
   ]
  },
  {
   "cell_type": "code",
   "execution_count": 85,
   "metadata": {},
   "outputs": [],
   "source": [
    "from dotenv import load_dotenv\n",
    "import os\n",
    "\n",
    "load_dotenv()\n",
    "os.environ[\"OPENAI_API_KEY\"] = os.getenv(\"OPENAI_API_KEY\")\n",
    "os.environ[\"ACTIVELOOP_TOKEN\"] = os.getenv(\"ACTIVELOOP_TOKEN\")\n",
    "os.environ[\"GOOGLE_CSE_ID\"] = os.getenv(\"GOOGLE_CSE_ID\")\n",
    "os.environ[\"GOOGLE_API_KEY\"] = os.getenv(\"GOOGLE_API_KEY\")"
   ]
  },
  {
   "cell_type": "markdown",
   "metadata": {},
   "source": [
    "Testing the api: [Source](https://stackoverflow.com/questions/37083058/programmatically-searching-google-in-python-using-custom-search)"
   ]
  },
  {
   "cell_type": "code",
   "execution_count": 89,
   "metadata": {},
   "outputs": [
    {
     "name": "stdout",
     "output_type": "stream",
     "text": [
      "{'cacheId': 'SYLF4bZFF-oJ',\n",
      " 'displayLink': 'en.wikipedia.org',\n",
      " 'formattedUrl': 'https://en.wikipedia.org/wiki/Stack_Overflow',\n",
      " 'htmlFormattedUrl': 'https://en.wikipedia.org/wiki/Stack_Overflow',\n",
      " 'htmlSnippet': '<b>Stack Overflow</b> is a question-and-answer website for '\n",
      "                'computer programmers. It is the flagship site of the '\n",
      "                '<b>Stack</b> Exchange Network. ... It was created in 2008 '\n",
      "                'by&nbsp;...',\n",
      " 'htmlTitle': '<b>Stack Overflow</b> - Wikipedia',\n",
      " 'kind': 'customsearch#result',\n",
      " 'link': 'https://en.wikipedia.org/wiki/Stack_Overflow',\n",
      " 'pagemap': {'hcard': [{'bday': '2008-09-15',\n",
      "                        'fn': 'Stack Exchange, Inc.',\n",
      "                        'url': 'stackoverflow.com',\n",
      "                        'url_text': 'stackoverflow.com'}],\n",
      "             'metatags': [{'format-detection': 'telephone=no',\n",
      "                           'og:image': 'https://upload.wikimedia.org/wikipedia/commons/thumb/a/a5/StackOverflow.com_Top_Questions_Page_Screenshot.png/1200px-StackOverflow.com_Top_Questions_Page_Screenshot.png',\n",
      "                           'og:image:height': '541',\n",
      "                           'og:image:width': '1200',\n",
      "                           'og:title': 'Stack Overflow - Wikipedia',\n",
      "                           'og:type': 'website',\n",
      "                           'referrer': 'origin',\n",
      "                           'theme-color': '#eaecf0',\n",
      "                           'viewport': 'width=device-width, initial-scale=1.0, '\n",
      "                                       'user-scalable=yes, minimum-scale=0.25, '\n",
      "                                       'maximum-scale=5.0'}]},\n",
      " 'snippet': 'Stack Overflow is a question-and-answer website for computer '\n",
      "            'programmers. It is the flagship site of the Stack Exchange '\n",
      "            'Network. ... It was created in 2008 by\\xa0...',\n",
      " 'title': 'Stack Overflow - Wikipedia'}\n",
      "{'cacheId': 'gg3R_K1YhqQJ',\n",
      " 'displayLink': 'en.wikipedia.org',\n",
      " 'formattedUrl': 'https://en.wikipedia.org/wiki/Joel_Spolsky',\n",
      " 'htmlFormattedUrl': 'https://en.wikipedia.org/wiki/Joel_Spolsky',\n",
      " 'htmlSnippet': 'He later founded Fog Creek Software in 2000 and launched the '\n",
      "                'Joel on Software blog. In 2008, he launched the <b>Stack '\n",
      "                'Overflow</b> programmer Q&amp;A site in '\n",
      "                'collaboration&nbsp;...',\n",
      " 'htmlTitle': 'Joel Spolsky - Wikipedia',\n",
      " 'kind': 'customsearch#result',\n",
      " 'link': 'https://en.wikipedia.org/wiki/Joel_Spolsky',\n",
      " 'pagemap': {'hcard': [{'category': 'American, New Zealand, Israeli, Dual '\n",
      "                                    'citizenship[1]',\n",
      "                        'fn': 'Joel Spolsky',\n",
      "                        'role': 'Software developer CEO, Stack Exchange '\n",
      "                                'Network Co-founder, Stack Overflow, Fog Creek '\n",
      "                                'Software and Trello',\n",
      "                        'url': 'joelonsoftware.com',\n",
      "                        'url_text': 'joelonsoftware.com'}],\n",
      "             'metatags': [{'format-detection': 'telephone=no',\n",
      "                           'og:image': 'https://upload.wikimedia.org/wikipedia/commons/thumb/2/27/Joel_Spolsky_2014-06-18.jpg/1200px-Joel_Spolsky_2014-06-18.jpg',\n",
      "                           'og:image:height': '1190',\n",
      "                           'og:image:width': '1200',\n",
      "                           'og:title': 'Joel Spolsky - Wikipedia',\n",
      "                           'og:type': 'website',\n",
      "                           'referrer': 'origin',\n",
      "                           'theme-color': '#eaecf0',\n",
      "                           'viewport': 'width=device-width, initial-scale=1.0, '\n",
      "                                       'user-scalable=yes, minimum-scale=0.25, '\n",
      "                                       'maximum-scale=5.0'}],\n",
      "             'person': [{'role': 'Software developer CEO, Stack Exchange '\n",
      "                                 'Network Co-founder, Stack Overflow, Fog '\n",
      "                                 'Creek Software and Trello'}]},\n",
      " 'snippet': 'He later founded Fog Creek Software in 2000 and launched the Joel '\n",
      "            'on Software blog. In 2008, he launched the Stack Overflow '\n",
      "            'programmer Q&A site in collaboration\\xa0...',\n",
      " 'title': 'Joel Spolsky - Wikipedia'}\n",
      "{'cacheId': 'tqS3B0KeFRQJ',\n",
      " 'displayLink': 'en.wikipedia.org',\n",
      " 'formattedUrl': 'https://en.wikipedia.org/wiki/Stack_(abstract_data_type)',\n",
      " 'htmlFormattedUrl': 'https://en.wikipedia.org/wiki/Stack_(abstract_data_type)',\n",
      " 'htmlSnippet': 'Considered a linear data structure, or more abstractly a '\n",
      "                'sequential collection, a <b>stack</b> has one end which is '\n",
      "                'the only position at which the push and pop&nbsp;...',\n",
      " 'htmlTitle': '<b>Stack</b> (abstract data type) - Wikipedia',\n",
      " 'kind': 'customsearch#result',\n",
      " 'link': 'https://en.wikipedia.org/wiki/Stack_(abstract_data_type)',\n",
      " 'pagemap': {'metatags': [{'format-detection': 'telephone=no',\n",
      "                           'og:image': 'https://upload.wikimedia.org/wikipedia/commons/1/19/Tallrik_-_Ystad-2018.jpg',\n",
      "                           'og:image:height': '1620',\n",
      "                           'og:image:width': '1200',\n",
      "                           'og:title': 'Stack (abstract data type) - Wikipedia',\n",
      "                           'og:type': 'website',\n",
      "                           'referrer': 'origin',\n",
      "                           'theme-color': '#eaecf0',\n",
      "                           'viewport': 'width=device-width, initial-scale=1.0, '\n",
      "                                       'user-scalable=yes, minimum-scale=0.25, '\n",
      "                                       'maximum-scale=5.0'}]},\n",
      " 'snippet': 'Considered a linear data structure, or more abstractly a '\n",
      "            'sequential collection, a stack has one end which is the only '\n",
      "            'position at which the push and pop\\xa0...',\n",
      " 'title': 'Stack (abstract data type) - Wikipedia'}\n",
      "{'cacheId': 'FaCkx9_6fiMJ',\n",
      " 'displayLink': 'en.wikipedia.org',\n",
      " 'formattedUrl': 'https://en.wikipedia.org/wiki/Stack_Exchange',\n",
      " 'htmlFormattedUrl': 'https://en.wikipedia.org/wiki/Stack_Exchange',\n",
      " 'htmlSnippet': 'All sites in the network are modeled after the initial site '\n",
      "                '<b>Stack Overflow</b> which was created by Jeff Atwood and '\n",
      "                'Joel Spolsky in 2008. Further Q&amp;A sites in the&nbsp;...',\n",
      " 'htmlTitle': '<b>Stack</b> Exchange - Wikipedia',\n",
      " 'kind': 'customsearch#result',\n",
      " 'link': 'https://en.wikipedia.org/wiki/Stack_Exchange',\n",
      " 'pagemap': {'cse_image': [{'src': 'https://upload.wikimedia.org/wikipedia/commons/thumb/4/4c/SuperUser2.png/170px-SuperUser2.png'}],\n",
      "             'cse_thumbnail': [{'height': '216',\n",
      "                                'src': 'https://encrypted-tbn0.gstatic.com/images?q=tbn:ANd9GcSaBxHNkP_vSqVYhHAgIAg3pNkpnqZoNKY8LbFjjtgUyEmYw5dDt47h2hQ&s',\n",
      "                                'width': '170'}],\n",
      "             'hcard': [{'bday': '2009-09',\n",
      "                        'fn': 'Stack Exchange Network',\n",
      "                        'label': 'New York City, New York, U.S.',\n",
      "                        'url': 'stackexchange.com',\n",
      "                        'url_text': 'stackexchange.com'}],\n",
      "             'metatags': [{'format-detection': 'telephone=no',\n",
      "                           'og:title': 'Stack Exchange - Wikipedia',\n",
      "                           'og:type': 'website',\n",
      "                           'referrer': 'origin',\n",
      "                           'theme-color': '#eaecf0',\n",
      "                           'viewport': 'width=device-width, initial-scale=1.0, '\n",
      "                                       'user-scalable=yes, minimum-scale=0.25, '\n",
      "                                       'maximum-scale=5.0'}]},\n",
      " 'snippet': 'All sites in the network are modeled after the initial site Stack '\n",
      "            'Overflow which was created by Jeff Atwood and Joel Spolsky in '\n",
      "            '2008. Further Q&A sites in the\\xa0...',\n",
      " 'title': 'Stack Exchange - Wikipedia'}\n",
      "{'cacheId': 'BX7Yn6_lEvcJ',\n",
      " 'displayLink': 'en.wikipedia.org',\n",
      " 'formattedUrl': 'https://en.wikipedia.org/wiki/Integer_overflow',\n",
      " 'htmlFormattedUrl': 'https://en.wikipedia.org/wiki/Integer_overflow',\n",
      " 'htmlSnippet': 'Integer <b>overflow</b> ... In computer programming, an '\n",
      "                'integer <b>overflow</b> occurs when an arithmetic operation '\n",
      "                'attempts to create a numeric value that is outside of '\n",
      "                'the&nbsp;...',\n",
      " 'htmlTitle': 'Integer <b>overflow</b> - Wikipedia',\n",
      " 'kind': 'customsearch#result',\n",
      " 'link': 'https://en.wikipedia.org/wiki/Integer_overflow',\n",
      " 'pagemap': {'metatags': [{'format-detection': 'telephone=no',\n",
      "                           'og:image': 'https://upload.wikimedia.org/wikipedia/commons/5/53/Odometer_rollover.jpg',\n",
      "                           'og:image:height': '1098',\n",
      "                           'og:image:width': '1200',\n",
      "                           'og:title': 'Integer overflow - Wikipedia',\n",
      "                           'og:type': 'website',\n",
      "                           'referrer': 'origin',\n",
      "                           'theme-color': '#eaecf0',\n",
      "                           'viewport': 'width=device-width, initial-scale=1.0, '\n",
      "                                       'user-scalable=yes, minimum-scale=0.25, '\n",
      "                                       'maximum-scale=5.0'}]},\n",
      " 'snippet': 'Integer overflow ... In computer programming, an integer overflow '\n",
      "            'occurs when an arithmetic operation attempts to create a numeric '\n",
      "            'value that is outside of the\\xa0...',\n",
      " 'title': 'Integer overflow - Wikipedia'}\n",
      "{'cacheId': 'SNkgldEPnB4J',\n",
      " 'displayLink': 'en.wikipedia.org',\n",
      " 'formattedUrl': 'https://en.wikipedia.org/wiki/Stack_buffer_overflow',\n",
      " 'htmlFormattedUrl': 'https://en.wikipedia.org/wiki/Stack_buffer_overflow',\n",
      " 'htmlSnippet': '<b>Stack</b> buffer <b>overflow</b> is a type of the more '\n",
      "                'general programming malfunction known as buffer '\n",
      "                '<b>overflow</b> (or buffer overrun). ... Overfilling a buffer '\n",
      "                'on the <b>stack</b> is&nbsp;...',\n",
      " 'htmlTitle': '<b>Stack</b> buffer <b>overflow</b> - Wikipedia',\n",
      " 'kind': 'customsearch#result',\n",
      " 'link': 'https://en.wikipedia.org/wiki/Stack_buffer_overflow',\n",
      " 'pagemap': {'metatags': [{'format-detection': 'telephone=no',\n",
      "                           'og:title': 'Stack buffer overflow - Wikipedia',\n",
      "                           'og:type': 'website',\n",
      "                           'referrer': 'origin',\n",
      "                           'theme-color': '#eaecf0',\n",
      "                           'viewport': 'width=device-width, initial-scale=1.0, '\n",
      "                                       'user-scalable=yes, minimum-scale=0.25, '\n",
      "                                       'maximum-scale=5.0'}]},\n",
      " 'snippet': 'Stack buffer overflow is a type of the more general programming '\n",
      "            'malfunction known as buffer overflow (or buffer overrun). ... '\n",
      "            'Overfilling a buffer on the stack is\\xa0...',\n",
      " 'title': 'Stack buffer overflow - Wikipedia'}\n",
      "{'cacheId': '-k4HUD4s6bgJ',\n",
      " 'displayLink': 'en.wikipedia.org',\n",
      " 'formattedUrl': 'https://en.wikipedia.org/wiki/Call_stack',\n",
      " 'htmlFormattedUrl': 'https://en.wikipedia.org/wiki/Call_stack',\n",
      " 'htmlSnippet': 'Structure edit &middot; call <b>stack</b> is composed of '\n",
      "                '&middot; <b>stack</b> frames (also called activation records '\n",
      "                'or activation frames). These are machine dependent and '\n",
      "                'ABI-dependent&nbsp;...',\n",
      " 'htmlTitle': 'Call <b>stack</b> - Wikipedia',\n",
      " 'kind': 'customsearch#result',\n",
      " 'link': 'https://en.wikipedia.org/wiki/Call_stack',\n",
      " 'pagemap': {'metatags': [{'format-detection': 'telephone=no',\n",
      "                           'og:title': 'Call stack - Wikipedia',\n",
      "                           'og:type': 'website',\n",
      "                           'referrer': 'origin',\n",
      "                           'theme-color': '#eaecf0',\n",
      "                           'viewport': 'width=device-width, initial-scale=1.0, '\n",
      "                                       'user-scalable=yes, minimum-scale=0.25, '\n",
      "                                       'maximum-scale=5.0'}]},\n",
      " 'snippet': 'Structure edit · call stack is composed of · stack frames (also '\n",
      "            'called activation records or activation frames). These are '\n",
      "            'machine dependent and ABI-dependent\\xa0...',\n",
      " 'title': 'Call stack - Wikipedia'}\n",
      "{'cacheId': 'HZe0uyNvTAwJ',\n",
      " 'displayLink': 'en.wikipedia.org',\n",
      " 'formattedUrl': 'https://en.wikipedia.org/wiki/Buffer_overflow',\n",
      " 'htmlFormattedUrl': 'https://en.wikipedia.org/wiki/Buffer_overflow',\n",
      " 'htmlSnippet': 'Buffer <b>overflow</b> ... In programming and information '\n",
      "                'security, a buffer <b>overflow</b> or buffer overrun is an '\n",
      "                'anomaly whereby a program writes data to a buffer '\n",
      "                'beyond&nbsp;...',\n",
      " 'htmlTitle': 'Buffer <b>overflow</b> - Wikipedia',\n",
      " 'kind': 'customsearch#result',\n",
      " 'link': 'https://en.wikipedia.org/wiki/Buffer_overflow',\n",
      " 'pagemap': {'metatags': [{'format-detection': 'telephone=no',\n",
      "                           'og:image': 'https://upload.wikimedia.org/wikipedia/commons/thumb/d/d0/Buffer_overflow_basicexample.svg/1200px-Buffer_overflow_basicexample.svg.png',\n",
      "                           'og:image:height': '605',\n",
      "                           'og:image:width': '1200',\n",
      "                           'og:title': 'Buffer overflow - Wikipedia',\n",
      "                           'og:type': 'website',\n",
      "                           'referrer': 'origin',\n",
      "                           'theme-color': '#eaecf0',\n",
      "                           'viewport': 'width=device-width, initial-scale=1.0, '\n",
      "                                       'user-scalable=yes, minimum-scale=0.25, '\n",
      "                                       'maximum-scale=5.0'}]},\n",
      " 'snippet': 'Buffer overflow ... In programming and information security, a '\n",
      "            'buffer overflow or buffer overrun is an anomaly whereby a program '\n",
      "            'writes data to a buffer beyond\\xa0...',\n",
      " 'title': 'Buffer overflow - Wikipedia'}\n",
      "{'cacheId': 'f366St3EHIQJ',\n",
      " 'displayLink': 'en.wikipedia.org',\n",
      " 'formattedUrl': 'https://en.wikipedia.org/wiki/Stack_(Haskell)',\n",
      " 'htmlFormattedUrl': 'https://en.wikipedia.org/wiki/Stack_(Haskell)',\n",
      " 'htmlSnippet': '<b>Stack</b> (Haskell) ... This article is about the Haskell '\n",
      "                'tool <b>Stack</b>. For the data type and concept, see '\n",
      "                '<b>Stack</b> (abstract data type) and <b>Stack</b>. '\n",
      "                '<b>Stack</b> is a tool to&nbsp;...',\n",
      " 'htmlTitle': '<b>Stack</b> (Haskell) - Wikipedia',\n",
      " 'kind': 'customsearch#result',\n",
      " 'link': 'https://en.wikipedia.org/wiki/Stack_(Haskell)',\n",
      " 'pagemap': {'metatags': [{'format-detection': 'telephone=no',\n",
      "                           'og:title': 'Stack (Haskell) - Wikipedia',\n",
      "                           'og:type': 'website',\n",
      "                           'referrer': 'origin',\n",
      "                           'theme-color': '#eaecf0',\n",
      "                           'viewport': 'width=device-width, initial-scale=1.0, '\n",
      "                                       'user-scalable=yes, minimum-scale=0.25, '\n",
      "                                       'maximum-scale=5.0'}]},\n",
      " 'snippet': 'Stack (Haskell) ... This article is about the Haskell tool Stack. '\n",
      "            'For the data type and concept, see Stack (abstract data type) and '\n",
      "            'Stack. Stack is a tool to\\xa0...',\n",
      " 'title': 'Stack (Haskell) - Wikipedia'}\n",
      "{'cacheId': 'hkTkXz40vXMJ',\n",
      " 'displayLink': 'en.wikipedia.org',\n",
      " 'formattedUrl': 'https://en.wikipedia.org/wiki/Solution_stack',\n",
      " 'htmlFormattedUrl': 'https://en.wikipedia.org/wiki/Solution_stack',\n",
      " 'htmlSnippet': 'In computing, a solution <b>stack</b> or software '\n",
      "                '<b>stack</b> is a set of software subsystems or components '\n",
      "                'needed to create a complete platform such that no '\n",
      "                'additional&nbsp;...',\n",
      " 'htmlTitle': 'Solution <b>stack</b> - Wikipedia',\n",
      " 'kind': 'customsearch#result',\n",
      " 'link': 'https://en.wikipedia.org/wiki/Solution_stack',\n",
      " 'pagemap': {'metatags': [{'format-detection': 'telephone=no',\n",
      "                           'og:title': 'Solution stack - Wikipedia',\n",
      "                           'og:type': 'website',\n",
      "                           'referrer': 'origin',\n",
      "                           'theme-color': '#eaecf0',\n",
      "                           'viewport': 'width=device-width, initial-scale=1.0, '\n",
      "                                       'user-scalable=yes, minimum-scale=0.25, '\n",
      "                                       'maximum-scale=5.0'}]},\n",
      " 'snippet': 'In computing, a solution stack or software stack is a set of '\n",
      "            'software subsystems or components needed to create a complete '\n",
      "            'platform such that no additional\\xa0...',\n",
      " 'title': 'Solution stack - Wikipedia'}\n"
     ]
    }
   ],
   "source": [
    "from googleapiclient.discovery import build\n",
    "import pprint\n",
    "\n",
    "my_api_key = os.environ[\"GOOGLE_API_KEY\"]\n",
    "my_cse_id = os.environ[\"GOOGLE_CSE_ID\"]\n",
    "\n",
    "def google_search(search_term, api_key, cse_id, **kwargs):\n",
    "    service = build(\"customsearch\", \"v1\", developerKey=api_key)\n",
    "    res = service.cse().list(q=search_term, cx=cse_id, **kwargs).execute()\n",
    "    return res['items']\n",
    "\n",
    "results = google_search(\n",
    "    'stackoverflow site:en.wikipedia.org', my_api_key, my_cse_id, num=10)\n",
    "for result in results:\n",
    "    pprint.pprint(result)"
   ]
  },
  {
   "cell_type": "code",
   "execution_count": 90,
   "metadata": {},
   "outputs": [],
   "source": [
    "from langchain_community.utilities import GoogleSearchAPIWrapper\n",
    "from langchain_core.tools import Tool\n",
    "\n",
    "search = GoogleSearchAPIWrapper()\n",
    "\n",
    "tool = Tool(\n",
    "    name=\"google_search\",\n",
    "    description=\"Search Google for recent results.\",\n",
    "    func=search.run,\n",
    ")"
   ]
  },
  {
   "cell_type": "code",
   "execution_count": 92,
   "metadata": {},
   "outputs": [
    {
     "data": {
      "text/markdown": [
       "Full Maiden Name of Mother. STANLEY. 15. Age of Mother 16. 18. Yes. No. 9. Race of Father. OBAMA. African. Usual Occupation. 12b. Student. DUNHAM. Kind of ... Barack Hussein Obama II. (1961-08-04) August 4, 1961 (age 62) Honolulu, Hawaii, U.S. · Democratic · Michelle Robinson. ​. ( m. · 1992)​. Apr 2, 2018 ... BARACK : Barkat and Mubarak both are derived from it in Hindi and Urdu. Roughly meaning blessing, abundance etc. Husen or Hussein from which ... At the first-ever Global AI Summit last year, I laid out our vision for a future where AI advances the public interest. To help build that future, I am ... First Lady Michelle LaVaughn Robinson Obama is a lawyer, writer, and the wife of the 44th President, Barack Obama. She is the first African-American First ... Apr 7, 2021 ... No, Obama is secretly his last name, his first name is obviously Joe, though. Joe Obama. Joebama. Jan 19, 2017 ... Hopeful parents named their sons for the first Black president, whose name is a variation of the Hebrew name Baruch, which means “blessed” ... Early Life and Career. First Lady Michelle Obama. Michelle Robinson Obama was born in DeYoung, Illinois, on January 17, ... May 19, 2010 ... President Barack Obama greets a boy, whose first name is also Barack, following the President's remarks on health care at the University of ... 36M Followers, 10 Following, 917 Posts - See Instagram photos and videos from Barack Obama (@barackobama)"
      ],
      "text/plain": [
       "<IPython.core.display.Markdown object>"
      ]
     },
     "metadata": {},
     "output_type": "display_data"
    }
   ],
   "source": [
    "display(Markdown(tool.run(\"Obama's first name?\")))"
   ]
  },
  {
   "cell_type": "code",
   "execution_count": 93,
   "metadata": {},
   "outputs": [],
   "source": [
    "from langchain_openai import ChatOpenAI\n",
    "\n",
    "llm = ChatOpenAI(model=\"gpt-4-turbo\", api_key=openai_api_key, temperature=0.0)"
   ]
  },
  {
   "cell_type": "code",
   "execution_count": 95,
   "metadata": {},
   "outputs": [],
   "source": [
    "from langchain_community.utilities import GoogleSearchAPIWrapper\n",
    "\n",
    "search = GoogleSearchAPIWrapper()"
   ]
  },
  {
   "cell_type": "code",
   "execution_count": 96,
   "metadata": {},
   "outputs": [],
   "source": [
    "from langchain_core.tools import Tool\n",
    "\n",
    "tools = [\n",
    "    Tool(\n",
    "        name = \"google-search\",\n",
    "        func=search.run,\n",
    "        description=\"useful for when you need to search google to answer questions about current events\"\n",
    "    )\n",
    "]"
   ]
  },
  {
   "cell_type": "code",
   "execution_count": 97,
   "metadata": {},
   "outputs": [],
   "source": [
    "from langchain.agents import initialize_agent\n",
    "\n",
    "agent = initialize_agent(tools, \n",
    "                         llm, \n",
    "                         agent=AgentType.ZERO_SHOT_REACT_DESCRIPTION, \n",
    "                         verbose=True,\n",
    "                         max_iterations=6)"
   ]
  },
  {
   "cell_type": "code",
   "execution_count": 99,
   "metadata": {},
   "outputs": [
    {
     "name": "stdout",
     "output_type": "stream",
     "text": [
      "\n",
      "\n",
      "\u001b[1m> Entering new AgentExecutor chain...\u001b[0m\n",
      "\u001b[32;1m\u001b[1;3mI need to search for the latest news about the Mars rover to provide the most recent updates.\n",
      "\n",
      "Action: google-search\n",
      "Action Input: latest news Mars rover 2023\u001b[0m\n",
      "Observation: \u001b[36;1m\u001b[1;3mNASA's Ingenuity Mars Helicopter is seen Aug. 2, 2023, in an enhanced- ... ... new role. ... Bunsen Peak is named… Article3 days ago. Mars image was taken by Left Navigation Camera onboard NASA's Mars rover Curiosity ... 2023, including next ... August 9, 2023. Cracks in Ancient Martian Mud Surprise NASA's Curiosity Rover Team. A new paper suggests the same conditions ... 24, 2023 — New NASA InSight research reveals that Mars has a liquid core rich in sulfur and oxygen, leading to new clues about how terrestrial planets form, ... Jul 20, 2023 ... NASA's Curiosity rover, which landed on Mars in 2012, has confirmed the presence of organic molecules several times in Gale Crater, 2,300 miles ... Apr 25, 2023 ... Images beamed back from Mars showed the Chinese rover had not changed its position since at least between September 8, 2022 and February 7, 2023 ... Apr 13, 2023 ... The update brings loads of improvements, the most significant being new driving capabilities. Feb 17, 2023 ... Mars Science Laboratory: Curiosity Rover ... 2023-022. NASA Logo. The National Aeronautics and Space ... News & Events · Multimedia · NASA+ ... Dec 13, 2023 ... Updated on: December 13, 2023 / 12:53 PM EST / CBS News ... new data about a major crater on Mars ... Get the latest breaking news delivered ... 13 December 2023. By Jonathan Amos,Science correspondent, @BBCAmos ... The announcement was made on the 1,000th Martian ... Nasa: 'New plan needed to return ...\u001b[0m\n",
      "Thought:\u001b[32;1m\u001b[1;3mThe search results provide several updates about Mars rovers, including NASA's Curiosity rover and the Chinese rover. The latest significant news includes findings by Curiosity rover about cracks in ancient Martian mud, which surprised the NASA team, and new research from NASA's InSight mission revealing that Mars has a liquid core rich in sulfur and oxygen. Additionally, there are updates about the driving capabilities of the rovers and the presence of organic molecules in Gale Crater.\n",
      "\n",
      "Thought: I now know the final answer.\n",
      "Final Answer: The latest news about the Mars rover includes findings by NASA's Curiosity rover about cracks in ancient Martian mud, which surprised the NASA team. Additionally, new research from NASA's InSight mission reveals that Mars has a liquid core rich in sulfur and oxygen. There are also updates about the driving capabilities of the rovers and the presence of organic molecules in Gale Crater.\u001b[0m\n",
      "\n",
      "\u001b[1m> Finished chain.\u001b[0m\n"
     ]
    },
    {
     "data": {
      "text/markdown": [
       "The latest news about the Mars rover includes findings by NASA's Curiosity rover about cracks in ancient Martian mud, which surprised the NASA team. Additionally, new research from NASA's InSight mission reveals that Mars has a liquid core rich in sulfur and oxygen. There are also updates about the driving capabilities of the rovers and the presence of organic molecules in Gale Crater."
      ],
      "text/plain": [
       "<IPython.core.display.Markdown object>"
      ]
     },
     "metadata": {},
     "output_type": "display_data"
    }
   ],
   "source": [
    "display(Markdown(agent.invoke({\"input\": \"What's the latest news about the Mars rover?\"})['output']))"
   ]
  },
  {
   "cell_type": "markdown",
   "metadata": {},
   "source": [
    "### Compose together different tools"
   ]
  },
  {
   "cell_type": "code",
   "execution_count": 100,
   "metadata": {},
   "outputs": [],
   "source": [
    "from langchain_openai import ChatOpenAI\n",
    "\n",
    "llm = ChatOpenAI(model=\"gpt-4-turbo\", api_key=openai_api_key, temperature=0.0)"
   ]
  },
  {
   "cell_type": "code",
   "execution_count": 101,
   "metadata": {},
   "outputs": [],
   "source": [
    "from langchain_community.utilities import GoogleSearchAPIWrapper\n",
    "\n",
    "search = GoogleSearchAPIWrapper()"
   ]
  },
  {
   "cell_type": "code",
   "execution_count": 107,
   "metadata": {},
   "outputs": [],
   "source": [
    "from langchain_core.prompts import ChatPromptTemplate\n",
    "from langchain_core.messages import SystemMessage\n",
    "from langchain_core.prompts import HumanMessagePromptTemplate\n",
    "\n",
    "prompt = ChatPromptTemplate.from_messages(\n",
    "    [\n",
    "        SystemMessage(\n",
    "            content=(\n",
    "                \"You are a helpful assistant that summarizes long text to readable chunks\"\n",
    "            )\n",
    "        ),\n",
    "        HumanMessagePromptTemplate.from_template(\"Summarize the following text for me: {text}\"),\n",
    "    ]\n",
    ")\n",
    "\n",
    "summarizer_chain = prompt | llm"
   ]
  },
  {
   "cell_type": "code",
   "execution_count": 111,
   "metadata": {},
   "outputs": [],
   "source": [
    "from langchain_core.tools import Tool\n",
    "\n",
    "tools = [\n",
    "    Tool(\n",
    "        name = \"google-search\",\n",
    "        func=search.run,\n",
    "        description=\"useful for when you need to search google to answer questions about current events\"\n",
    "    ),\n",
    "    Tool(\n",
    "       name='Summarizer',\n",
    "       func=summarizer_chain.invoke,\n",
    "       description='useful for summarizing texts'\n",
    "    )\n",
    "]"
   ]
  },
  {
   "cell_type": "code",
   "execution_count": 112,
   "metadata": {},
   "outputs": [],
   "source": [
    "agent = initialize_agent(\n",
    "    tools,\n",
    "    llm,\n",
    "    agent=AgentType.ZERO_SHOT_REACT_DESCRIPTION,\n",
    "    verbose=True  \n",
    ")"
   ]
  },
  {
   "cell_type": "code",
   "execution_count": 115,
   "metadata": {},
   "outputs": [
    {
     "name": "stdout",
     "output_type": "stream",
     "text": [
      "\n",
      "\n",
      "\u001b[1m> Entering new AgentExecutor chain...\u001b[0m\n",
      "\u001b[32;1m\u001b[1;3mTo find the latest news about the Mars rover, I need to perform a search to gather the most recent updates.\n",
      "\n",
      "Action: google-search\n",
      "Action Input: latest news Mars rover 2023\u001b[0m\n",
      "Observation: \u001b[36;1m\u001b[1;3mNASA's Ingenuity Mars Helicopter is seen Aug. 2, 2023, in an enhanced- ... ... new role. ... Bunsen Peak is named… Article3 days ago. Mars image was taken by Left Navigation Camera onboard NASA's Mars rover Curiosity ... 2023, including next ... August 9, 2023. Cracks in Ancient Martian Mud Surprise NASA's Curiosity Rover Team. A new paper suggests the same conditions ... 24, 2023 — New NASA InSight research reveals that Mars has a liquid core rich in sulfur and oxygen, leading to new clues about how terrestrial planets form, ... Jul 20, 2023 ... NASA's Curiosity rover, which landed on Mars in 2012, has confirmed the presence of organic molecules several times in Gale Crater, 2,300 miles ... Apr 25, 2023 ... Images beamed back from Mars showed the Chinese rover had not changed its position since at least between September 8, 2022 and February 7, 2023 ... Apr 13, 2023 ... The update brings loads of improvements, the most significant being new driving capabilities. Feb 17, 2023 ... Mars Science Laboratory: Curiosity Rover ... 2023-022. NASA Logo. The National Aeronautics and Space ... News & Events · Multimedia · NASA+ ... Dec 13, 2023 ... Updated on: December 13, 2023 / 12:53 PM EST / CBS News ... new data about a major crater on Mars ... Get the latest breaking news delivered ... 13 December 2023. By Jonathan Amos,Science correspondent, @BBCAmos ... The announcement was made on the 1,000th Martian ... Nasa: 'New plan needed to return ...\u001b[0m\n",
      "Thought:\u001b[32;1m\u001b[1;3mThe search results provide various updates about Mars rovers, including discoveries by NASA's Curiosity rover and updates on the Chinese rover. To answer the question effectively, I need to summarize these updates.\n",
      "\n",
      "Action: Summarizer\n",
      "Action Input: NASA's Ingenuity Mars Helicopter is seen Aug. 2, 2023, in an enhanced- ... new role. ... Bunsen Peak is named… Article3 days ago. Mars image was taken by Left Navigation Camera onboard NASA's Mars rover Curiosity ... 2023, including next ... August 9, 2023. Cracks in Ancient Martian Mud Surprise NASA's Curiosity Rover Team. A new paper suggests the same conditions ... 24, 2023 — New NASA InSight research reveals that Mars has a liquid core rich in sulfur and oxygen, leading to new clues about how terrestrial planets form, ... Jul 20, 2023 ... NASA's Curiosity rover, which landed on Mars in 2012, has confirmed the presence of organic molecules several times in Gale Crater, 2,300 miles ... Apr 25, 2023 ... Images beamed back from Mars showed the Chinese rover had not changed its position since at least between September 8, 2022 and February 7, 2023 ... Apr 13, 2023 ... The update brings loads of improvements, the most significant being new driving capabilities. Feb 17, 2023 ... Mars Science Laboratory: Curiosity Rover ... 2023-022. NASA Logo. The National Aeronautics and Space ... News & Events · Multimedia · NASA+ ... Dec 13, 2023 ... Updated on: December 13, 2023 / 12:53 PM EST / CBS News ... new data about a major crater on Mars ... Get the latest breaking news delivered ... 13 December 2023. By Jonathan Amos,Science correspondent, @BBCAmos ... The announcement was made on the 1,000th Martian ... Nasa: 'New plan needed to return ...\u001b[0m\n",
      "Observation: \u001b[33;1m\u001b[1;3mcontent=\"The text provides various updates on NASA's Mars missions in 2023. Key highlights include:\\n\\n1. NASA's Ingenuity Mars Helicopter was active on Mars as of August 2, 2023.\\n2. The Curiosity Rover, which landed on Mars in 2012, has been exploring and sending back data, including the discovery of organic molecules in Gale Crater.\\n3. A new paper released on August 9, 2023, discusses surprising findings of cracks in ancient Martian mud.\\n4. Research from NASA's InSight mission, dated July 24, 2023, reveals that Mars has a liquid core containing sulfur and oxygen, providing insights into the formation of terrestrial planets.\\n5. Images from Mars indicate that the Chinese rover remained stationary between September 8, 2022, and February 7, 2023.\\n6. Updates to the Curiosity Rover in 2023 include significant improvements in its driving capabilities.\\n7. On December 13, 2023, new data about a major Martian crater was released, suggesting a need for a new plan for Mars exploration.\\n\\nThese updates reflect ongoing research and exploration efforts on Mars, contributing to our understanding of the planet.\" response_metadata={'token_usage': {'completion_tokens': 244, 'prompt_tokens': 401, 'total_tokens': 645}, 'model_name': 'gpt-4-turbo', 'system_fingerprint': 'fp_76f018034d', 'finish_reason': 'stop', 'logprobs': None} id='run-9488788e-a361-45aa-a713-b98146b4420b-0'\u001b[0m\n",
      "Thought:\u001b[32;1m\u001b[1;3mI now know the final answer.\n",
      "\n",
      "Final Answer: The latest news about Mars rovers in 2023 includes several significant updates:\n",
      "1. NASA's Ingenuity Mars Helicopter was active as of August 2, 2023.\n",
      "2. The Curiosity Rover has confirmed the presence of organic molecules in Gale Crater and continues to send back valuable data.\n",
      "3. A new study released on August 9, 2023, revealed surprising findings about cracks in ancient Martian mud.\n",
      "4. Research from NASA's InSight mission indicates that Mars has a liquid core rich in sulfur and oxygen, offering new insights into the formation of terrestrial planets.\n",
      "5. The Chinese rover has remained stationary between September 2022 and February 2023.\n",
      "6. The Curiosity Rover received significant driving capability upgrades in 2023.\n",
      "7. On December 13, 2023, new data about a major Martian crater was released, indicating the need for a new exploration strategy.\u001b[0m\n",
      "\n",
      "\u001b[1m> Finished chain.\u001b[0m\n"
     ]
    },
    {
     "data": {
      "text/markdown": [
       "The latest news about Mars rovers in 2023 includes several significant updates:\n",
       "1. NASA's Ingenuity Mars Helicopter was active as of August 2, 2023.\n",
       "2. The Curiosity Rover has confirmed the presence of organic molecules in Gale Crater and continues to send back valuable data.\n",
       "3. A new study released on August 9, 2023, revealed surprising findings about cracks in ancient Martian mud.\n",
       "4. Research from NASA's InSight mission indicates that Mars has a liquid core rich in sulfur and oxygen, offering new insights into the formation of terrestrial planets.\n",
       "5. The Chinese rover has remained stationary between September 2022 and February 2023.\n",
       "6. The Curiosity Rover received significant driving capability upgrades in 2023.\n",
       "7. On December 13, 2023, new data about a major Martian crater was released, indicating the need for a new exploration strategy."
      ],
      "text/plain": [
       "<IPython.core.display.Markdown object>"
      ]
     },
     "metadata": {},
     "output_type": "display_data"
    }
   ],
   "source": [
    "display(Markdown(agent.invoke({\"input\": \"What's the latest news about the Mars rover? Then please summarize the results.\"})[\"output\"]))"
   ]
  },
  {
   "cell_type": "code",
   "execution_count": 116,
   "metadata": {},
   "outputs": [
    {
     "name": "stdout",
     "output_type": "stream",
     "text": [
      "\n",
      "\n",
      "\u001b[1m> Entering new AgentExecutor chain...\u001b[0m\n",
      "\u001b[32;1m\u001b[1;3mTo find the current weather in Durgapur, West Bengal, I need to search for the most recent weather update online.\n",
      "\n",
      "Action: google-search\n",
      "Action Input: current weather in Durgapur, West Bengal\u001b[0m\n",
      "Observation: \u001b[36;1m\u001b[1;3mCurrent Weather · 114°F. Sunny · RealFeel® 112°. Dangerous Heat. RealFeel Guide. Dangerous Heat. 108° to 115°. Caution advised. Danger of dehydration, heat ... Be prepared with the most accurate 10-day forecast for Purba Durgapur, West Bengal with highs, lows, chance of precipitation from The Weather Channel and ... Hourly Weather · 1 AM 90°. rain drop 0% · 2 AM 89°. rain drop 0% · 3 AM 87°. 2 Week Extended Forecast in Durgapur, West Bengal, India ; 114 / 80 °F · Sunny. 109 °F ... Be prepared with the most accurate 10-day forecast for Durgapur, West Bengal, India with highs, lows, chance of precipitation from The Weather Channel and ... Today's and tonight's Durgapur, West Bengal, India weather forecast, weather conditions and Doppler radar from The Weather Channel and Weather.com. Durgapur, West Bengal, India 10-Day Weather Forecaststar_ratehome ; 60 F 80 F 100 F · Dew Point (°). Feels Like (°F). Temperature (°F) ; 0% 25% 50% 75% 100% 29.44 ... Get Durgapur, WB. current weather report with temperature, feels like, wind, humidity, pressure, UV and more from TheWeatherNetwork.com. ♢ For Weather Update of West Bengal follow this ... North Bengal| South Bengal| Andaman & Nicobar| Capital Cities| Forecast maps ... Current Weather across Major ... The minimum temperature in Durgapur today is likely to hover around 22 degrees Celsius, while the maximum temperature might reach 35 degrees Celsius.\u001b[0m\n",
      "Thought:\u001b[32;1m\u001b[1;3mI now know the final answer based on the search results.\n",
      "\n",
      "Final Answer: The current weather in Durgapur, West Bengal is sunny with a temperature of 114°F, feeling like 112°F due to dangerous heat conditions. There is a caution advised due to the risk of dehydration from the heat. The minimum temperature today is around 22 degrees Celsius, while the maximum might reach 35 degrees Celsius.\u001b[0m\n",
      "\n",
      "\u001b[1m> Finished chain.\u001b[0m\n"
     ]
    },
    {
     "data": {
      "text/markdown": [
       "The current weather in Durgapur, West Bengal is sunny with a temperature of 114°F, feeling like 112°F due to dangerous heat conditions. There is a caution advised due to the risk of dehydration from the heat. The minimum temperature today is around 22 degrees Celsius, while the maximum might reach 35 degrees Celsius."
      ],
      "text/plain": [
       "<IPython.core.display.Markdown object>"
      ]
     },
     "metadata": {},
     "output_type": "display_data"
    }
   ],
   "source": [
    "display(Markdown(agent.invoke({\"input\": \"Summarize the current weather in Durgapur, West Bengal\"})[\"output\"]))"
   ]
  },
  {
   "cell_type": "code",
   "execution_count": 117,
   "metadata": {},
   "outputs": [
    {
     "name": "stdout",
     "output_type": "stream",
     "text": [
      "\n",
      "\n",
      "\u001b[1m> Entering new AgentExecutor chain...\u001b[0m\n",
      "\u001b[32;1m\u001b[1;3mTo find the current weather in Durgapur, West Bengal, I need to perform a Google search.\n",
      "\n",
      "Action: google-search\n",
      "Action Input: current weather in Durgapur, West Bengal\u001b[0m\n",
      "Observation: \u001b[36;1m\u001b[1;3mCurrent Weather · 114°F. Sunny · RealFeel® 112°. Dangerous Heat. RealFeel Guide. Dangerous Heat. 108° to 115°. Caution advised. Danger of dehydration, heat ... Be prepared with the most accurate 10-day forecast for Purba Durgapur, West Bengal with highs, lows, chance of precipitation from The Weather Channel and ... Hourly Weather · 1 AM 90°. rain drop 0% · 2 AM 89°. rain drop 0% · 3 AM 87°. 2 Week Extended Forecast in Durgapur, West Bengal, India ; 114 / 80 °F · Sunny. 109 °F ... Be prepared with the most accurate 10-day forecast for Durgapur, West Bengal, India with highs, lows, chance of precipitation from The Weather Channel and ... Today's and tonight's Durgapur, West Bengal, India weather forecast, weather conditions and Doppler radar from The Weather Channel and Weather.com. Durgapur, West Bengal, India 10-Day Weather Forecaststar_ratehome ; 60 F 80 F 100 F · Dew Point (°). Feels Like (°F). Temperature (°F) ; 0% 25% 50% 75% 100% 29.44 ... Get Durgapur, WB. current weather report with temperature, feels like, wind, humidity, pressure, UV and more from TheWeatherNetwork.com. ♢ For Weather Update of West Bengal follow this ... North Bengal| South Bengal| Andaman & Nicobar| Capital Cities| Forecast maps ... Current Weather across Major ... The minimum temperature in Durgapur today is likely to hover around 22 degrees Celsius, while the maximum temperature might reach 35 degrees Celsius.\u001b[0m\n",
      "Thought:\u001b[32;1m\u001b[1;3mI have found the current weather information for Durgapur, West Bengal. Now, I need to summarize this information.\n",
      "\n",
      "Action: Summarizer\n",
      "Action Input: Current Weather in Durgapur, West Bengal: 114°F, Sunny. RealFeel® 112°. Dangerous Heat. RealFeel Guide indicates dangerous heat, with temperatures ranging from 108° to 115°. Caution is advised due to the danger of dehydration and heat. The minimum temperature today is likely to be around 22 degrees Celsius, while the maximum temperature might reach 35 degrees Celsius.\u001b[0m\n",
      "Observation: \u001b[33;1m\u001b[1;3mcontent=\"The current weather in Durgapur, West Bengal is extremely hot with a temperature of 114°F and a RealFeel® of 112°F. The weather is sunny and poses a risk of dangerous heat, with temperatures expected to range between 108° and 115°F. There is a significant risk of dehydration and heat-related illnesses, so caution is advised. Today's temperatures are forecasted to vary from a minimum of 22°C to a maximum of 35°C.\" response_metadata={'token_usage': {'completion_tokens': 96, 'prompt_tokens': 115, 'total_tokens': 211}, 'model_name': 'gpt-4-turbo', 'system_fingerprint': 'fp_a39722e138', 'finish_reason': 'stop', 'logprobs': None} id='run-222d1fd6-5bdd-4cbd-a74e-5cf5fb3b5d57-0'\u001b[0m\n",
      "Thought:\u001b[32;1m\u001b[1;3mI now know the final answer.\n",
      "\n",
      "Final Answer: The current weather in Durgapur, West Bengal is extremely hot with a temperature of 114°F and a RealFeel® of 112°F. The weather is sunny and poses a risk of dangerous heat, with temperatures expected to range between 108° and 115°F. There is a significant risk of dehydration and heat-related illnesses, so caution is advised. Today's temperatures are forecasted to vary from a minimum of 22°C to a maximum of 35°C.\u001b[0m\n",
      "\n",
      "\u001b[1m> Finished chain.\u001b[0m\n"
     ]
    },
    {
     "data": {
      "text/markdown": [
       "The current weather in Durgapur, West Bengal is extremely hot with a temperature of 114°F and a RealFeel® of 112°F. The weather is sunny and poses a risk of dangerous heat, with temperatures expected to range between 108° and 115°F. There is a significant risk of dehydration and heat-related illnesses, so caution is advised. Today's temperatures are forecasted to vary from a minimum of 22°C to a maximum of 35°C."
      ],
      "text/plain": [
       "<IPython.core.display.Markdown object>"
      ]
     },
     "metadata": {},
     "output_type": "display_data"
    }
   ],
   "source": [
    "display(Markdown(agent.invoke({\"input\": \"What is the current weather in Durgapur, West Bengal ? Then summarize the result please\"})[\"output\"]))\n"
   ]
  },
  {
   "cell_type": "code",
   "execution_count": 118,
   "metadata": {},
   "outputs": [
    {
     "name": "stdout",
     "output_type": "stream",
     "text": [
      "\n",
      "\n",
      "\u001b[1m> Entering new AgentExecutor chain...\u001b[0m\n",
      "\u001b[32;1m\u001b[1;3mThought: To find the current score of the FA Cup semifinal, I need to search for the latest updates or live scores from a reliable sports news source.\n",
      "\n",
      "Action: google-search\n",
      "Action Input: current score FA Cup semifinal 2023\u001b[0m\n",
      "Observation: \u001b[36;1m\u001b[1;3mManchester City won the match 2–1 for their seventh FA Cup title and second double. İlkay Gündoğan broke the record for the fastest goal ever in an FA Cup final ... SEE THE LATEST EMIRATES FA CUP FIXTURES. Related Content; Latest News. Previous. The FA. Caicedo ready for Wembley return · Caicedo ready for Wembley return. Apr 22, 2023 ... FULL TIME: Manchester City 3-0 Sheffield United. Manchester City will face either Brighton & Hove Albion or Manchester United in the 2023 FA Cup ... Jun 3, 2023 ... Get the latest Football updates on Eurosport. Catch Manchester City - Manchester United live on 03/06/2023. Find scores, stats and comments ... Mar 22, 2024 ... The Red Devils were runners-up to another rival, Manchester City, in last season's final. For Man City, its a sixth consecutive season in the ... Mar 17, 2024 ... FA Cup semi-final draw: Coventry City v ... 2023-24. But it wasn't ... Amad Diallo scored the latest winning goal in any match in the FA Cup ... Feb 7, 2024 ... Ghalenoei says the current team, the so-called golden generation of Iranian football, gave everything they could in the tournament and today's ... May 15, 2023 ... Chelsea beat Manchester United 1-0 to claim a third straight Women's FA Cup title in front of a record crowd at Wembley, as Sam Kerr's ... Feb 7, 2024 ... Sebastion Haller scored the only goal at Alassane Ouattara Stadium in Abidjan, Ivory Coast. The Elephants now face Nigeria in Sunday's final. Jun 3, 2023 ... Watch goals and match highlights from the 2023 FA Cup final between Manchester City and Manchester United, including two superb strikes by ...\u001b[0m\n",
      "Thought:\u001b[32;1m\u001b[1;3mThe search results indicate that the FA Cup semifinal match between Manchester City and Sheffield United ended with Manchester City winning 3-0. This match was part of the 2023 FA Cup, and Manchester City will face either Brighton & Hove Albion or Manchester United in the final.\n",
      "\n",
      "Thought: I now know the final answer.\n",
      "Final Answer: The score of the FA Cup semifinal match between Manchester City and Sheffield United was 3-0, with Manchester City winning.\u001b[0m\n",
      "\n",
      "\u001b[1m> Finished chain.\u001b[0m\n"
     ]
    },
    {
     "data": {
      "text/markdown": [
       "The score of the FA Cup semifinal match between Manchester City and Sheffield United was 3-0, with Manchester City winning."
      ],
      "text/plain": [
       "<IPython.core.display.Markdown object>"
      ]
     },
     "metadata": {},
     "output_type": "display_data"
    }
   ],
   "source": [
    "display(Markdown(agent.invoke({\"input\": \"What is the current score of the FA cup semifinal ?\"})[\"output\"]))\n"
   ]
  },
  {
   "cell_type": "code",
   "execution_count": 120,
   "metadata": {},
   "outputs": [
    {
     "name": "stdout",
     "output_type": "stream",
     "text": [
      "\n",
      "\n",
      "\u001b[1m> Entering new AgentExecutor chain...\u001b[0m\n",
      "\u001b[32;1m\u001b[1;3mI need to find the current score of the FA Cup semifinal match between Manchester City and Chelsea.\n",
      "\n",
      "Action: google-search\n",
      "Action Input: current score FA Cup semifinal Manchester City vs Chelsea\u001b[0m\n",
      "Observation: \u001b[36;1m\u001b[1;3m3 hours ago ... It has, however, been his goalscoring that has hurt Chelsea this season and he scored in both of the Premier League meetings against ... 6 hours ago ... ... City player Cole Palmer scoring four goals. The forward will be crucial to Chelsea's attempt at defeating their rivals today having already ... 2 days ago ... Manchester City and Chelsea lock horns at Wembley Stadium on Saturday in a tasty FA Cup semifinal. Mar 17, 2024 ... Holders Manchester City will face Chelsea in the semi-finals of the FA Cup. Manchester United's reward for beating rivals Liverpool in a ... Mar 17, 2024 ... Manchester City will continue their pursuit of an eighth FA Cup when they play Chelsea in the semifinal stage of this season's competition. Mar 7, 2024 ... We hope you enjoyed the last two evenings of semi-final football as Arsenal and Chelsea secured their places in the League Cup final. Mar 17, 2024 ... FA Cup semi-final draw: Holders Manchester City to face Chelsea, Coventry City earn tie with Manchester United · FA Cup holders Manchester City ... 1 day ago ... The Blues are making their 27th appearance in the FA Cup semifinals, the third-most behind Man United's 32 and Arsenal's 30. Chelsea scored at ... 5 hours ago ... The Blues were beaten on their last visit to Wembley, in the Carabao Cup final against Liverpool, but have largely been impressive against the ... 4 hours ago ... Man City take on Chelsea at Wembley in the FA Cup semifinals. We're providing live updates as the game unfolds.\u001b[0m\n",
      "Thought:\u001b[32;1m\u001b[1;3mThe search results did not provide the current score of the FA Cup semifinal match between Manchester City and Chelsea. I need to refine my search or look for a source that provides live updates or scores.\n",
      "\n",
      "Action: google-search\n",
      "Action Input: live score FA Cup semifinal Manchester City vs Chelsea\u001b[0m\n",
      "Observation: \u001b[36;1m\u001b[1;3m3 hours ago ... MANCHESTER CITY take on Chelsea in the semi-final of the FA Cup TODAY.Pep Guardiola's side can no longer match last season's Treble ... Get the latest Manchester City vs Chelsea live score in the FA Cup: Semi-Finals from LiveScore.com. 4 hours ago ... Man City take on Chelsea at Wembley in the FA Cup semifinals. We're providing live updates as the game unfolds. Manchester City Chelsea live score (and video online live stream) starts on 20 Apr 2024 at 16:15 UTC time in FA Cup, England. 2 days ago ... Manchester City and Chelsea lock horns at Wembley Stadium on Saturday in a tasty FA Cup semifinal. 5 hours ago ... Follow Mail Sport's live blog for the latest score, team news and updates as Manchester City take on Chelsea in the FA Cup semi-final at ... 3 hours ago ... MCI vs CHE, Live score: Catch the live updates of the FA Cup 2023-24 semifinal match between Manchester City and Chelsea being played at the ... Mar 17, 2024 ... Final score: Man Utd 4-3 Liverpool (after extra time) ... Manchester City v Chelsea ... vs Manchester City in the 2020 League Cup semi-final. Apr 22, 2023 ... As for Manchester City, the treble dream remains alive, thanks to Riyad Mahrez, who becomes the first player to score a hat-trick in an FA Cup ... 3 hours ago ... Live coverage of the Manchester City vs. Chelsea English Fa Cup game on ESPN, including live score, highlights and updated stats.\u001b[0m\n",
      "Thought:\u001b[32;1m\u001b[1;3mThe search results provided a link to LiveScore.com which should have the current score of the match.\n",
      "\n",
      "Action: google-search\n",
      "Action Input: Manchester City vs Chelsea FA Cup semifinal score LiveScore.com\u001b[0m\n",
      "Observation: \u001b[36;1m\u001b[1;3mGet the latest Manchester City vs Chelsea live score in the FA Cup: Semi-Finals from LiveScore.com. 4 hours ago ... Man City take on Chelsea at Wembley in the FA Cup semifinals. We're providing live updates as the game unfolds. Mar 17, 2024 ... Coventry draw Man Utd and Man City play Chelsea in FA Cup semi-finals. Facebook icon. Twitter icon. Copy icon. LiveScore logo. Mar 17, 2024 ... Manchester City v Chelsea ... vs Manchester City in the 2020 League Cup semi-final. ... Amad Diallo scored the latest winning goal in any match in ... Jun 2, 2023 ... Third round — Manchester City 4-0 Chelsea. Just three days after beating Chelsea 1-0 in a hard-fought Premier League encounter, City hosted the ... Manchester City vs Chelsea live updates Follow all the action as holders Manchester City meet Chelsea at Wembley in the first FA Cup semi-final. JUST IN ... Mar 15, 2024 ... Wolves vs Coventry (Saturday, 12.15pm, ITV1) · Manchester City vs Newcastle (Saturday, 5.30pm, BBC One) · Chelsea vs Leicester (Sunday, 12.45pm, ... Mar 7, 2024 ... We hope you enjoyed the last two evenings of semi-final football as Arsenal and Chelsea secured their places in the League Cup final. Coventry draw Man Utd and Man City play Chelsea in FA Cup semi-finals ... scored a late winner as Manchester United edged an FA Cup ... Chelsea vs Leicester ... Schedule22-7-3, 1st in English Premier League ; Why Moreno expects Man City to bounce back vs. Chelsea in FA Cup. 2h. 0:50 ; Would Guardiola take Palmer back to ...\u001b[0m\n",
      "Thought:\u001b[32;1m\u001b[1;3mThe search results from LiveScore.com did not directly provide the current score, but mentioned that live updates are being provided as the game unfolds.\n",
      "\n",
      "Thought: I need to access LiveScore.com directly or find another reliable source to get the exact current score of the match.\n",
      "\n",
      "Action: google-search\n",
      "Action Input: Manchester City vs Chelsea FA Cup semifinal current score\u001b[0m\n",
      "Observation: \u001b[36;1m\u001b[1;3m5 hours ago ... Follow all the action as holders Manchester City meet Chelsea at Wembley in the first FA Cup semi-final. 2 days ago ... Manchester City and Chelsea lock horns at Wembley Stadium on Saturday in a tasty FA Cup semifinal. Mar 17, 2024 ... Manchester City will continue their pursuit of an eighth FA Cup when they play Chelsea in the semifinal stage of this season's competition. 5 hours ago ... All our updates as Chelsea beat Manchester United 4-3 at Stamford Bridge in the Premier League. Published On 4 Apr 20244 Apr 2024. Mar 7, 2024 ... We hope you enjoyed the last two evenings of semi-final football as Arsenal and Chelsea secured their places in the League Cup final. Mar 17, 2024 ... FA Cup semi-final draw: Holders Manchester City to face Chelsea, Coventry City earn tie with Manchester United · FA Cup holders Manchester City ... 1 day ago ... The Blues are making their 27th appearance in the FA Cup semifinals, the third-most behind Man United's 32 and Arsenal's 30. Chelsea scored at ... 12 hours ago ... I'm less worried about us scoring goals than leaking them. We need the backline to be exceptional today. Apr 17, 2021 ... Chelsea 1-0 Manchester City: FA Cup semi-final – as it happened ... Hakim Ziyech of Chelsea opens the scoring. 7 hours ago ... ... City player Cole Palmer scoring four goals. The forward will be crucial to Chelsea's attempt at defeating their rivals today having already ...\u001b[0m\n",
      "Thought:\u001b[32;1m\u001b[1;3mThe search results still did not provide the current score of the FA Cup semifinal match between Manchester City and Chelsea. It seems that accessing a live sports update site directly or finding a specific live coverage might be necessary.\n",
      "\n",
      "Thought: I need to directly access a reliable sports news website or a live sports score website to find the current score.\n",
      "\n",
      "Action: google-search\n",
      "Action Input: ESPN live score Manchester City vs Chelsea FA Cup semifinal\u001b[0m\n",
      "Observation: \u001b[36;1m\u001b[1;3mWill Erik ten Hag be sacked if Man United lose to Coventry City in the FA Cup? 22h. 2:01. ESPN+. Live & Upcoming Games · LALIGA · Bundesliga · ESPN FC Daily. Why Moreno expects Man City to bounce back vs. Chelsea in FA Cup. 18h. 0:50. TOP HEADLINES. Chelsea stun Barça 1-0 in UWCL semifinal · Sources: No talks between ... 3 hours ago ... Live coverage of the Manchester City vs. Chelsea English Fa Cup game on ESPN, including live score, highlights and updated stats. Real Madrid have shown that Manchester City can ... Chelsea stun Barça 1-0 in UWCL semifinal ... FA Cup semifinal, but their shot at football immortality is over. Why Moreno expects Man City to bounce back vs. Chelsea in FA Cup ... How to watch 2024 FA Cup semifinals: ESPN+ schedule ... Farewell to FA Cup relays and classics ... ESPN. scores ... Podcenter. Man City's Match to Lose?: 4/19. Play. The FC crew look ahead to Manchester City and Chelsea's FA Cup semifinal ... ESPN US - The Latest ... 2023-24 English FA Cup, Semifinals. MNC · Manchester City. 20/4. 9:15 AM. CHE · Chelsea · Summary · Statistics. Top Scorers. MNC · 9. Erling Haaland. Forward ... ESPN · With Man City reeling, Arsenal and Liverpool face moment of truth in Premier League title race · TOP HEADLINES · A-LEAGUE MEN · ENGLISH LEAGUE CHAMPIONSHIP. Fixtures22-7-3, 1st in English Premier League ; Why Moreno expects Man City to bounce back vs. Chelsea in FA Cup. 2h. 0:50 ; Would Guardiola take Palmer back to ... ... League and Europa League. Image. 22. 75 ... 9th place Chelsea have reached more semifinals this season than 1st place Man City, 2nd place Arsenal and 3rd place ...\u001b[0m\n",
      "Thought:\u001b[32;1m\u001b[1;3mThe search results from ESPN provided live coverage of the Manchester City vs. Chelsea FA Cup semifinal, including live score, highlights, and updated stats.\n",
      "\n",
      "Thought: I now know the final answer\n",
      "Final Answer: To find the current score of the FA Cup semifinal between Manchester City and Chelsea, please check the live coverage on ESPN or visit LiveScore.com for real-time updates.\u001b[0m\n",
      "\n",
      "\u001b[1m> Finished chain.\u001b[0m\n"
     ]
    },
    {
     "data": {
      "text/markdown": [
       "To find the current score of the FA Cup semifinal between Manchester City and Chelsea, please check the live coverage on ESPN or visit LiveScore.com for real-time updates."
      ],
      "text/plain": [
       "<IPython.core.display.Markdown object>"
      ]
     },
     "metadata": {},
     "output_type": "display_data"
    }
   ],
   "source": [
    "display(Markdown(agent.invoke({\"input\": \"What is the current score of the FA cup semifinal between Manchester City and Chelsea ?\"})[\"output\"]))\n"
   ]
  },
  {
   "cell_type": "code",
   "execution_count": 121,
   "metadata": {},
   "outputs": [
    {
     "name": "stdout",
     "output_type": "stream",
     "text": [
      "\n",
      "\n",
      "\u001b[1m> Entering new AgentExecutor chain...\u001b[0m\n",
      "\u001b[32;1m\u001b[1;3mTo find the current standings in the Premier League, I need to search for the most recent data available online.\n",
      "\n",
      "Action: google-search\n",
      "Action Input: current Premier League standings 2023\u001b[0m\n",
      "Observation: \u001b[36;1m\u001b[1;3mGet the 2023-24 season English Premier League standings on ESPN. Find the full standings with win, loss and draw record for each team. Catch up on everything you missed - watch football videos with highlights from recent matches. Get expert analysis and commentary. Witness this season's ... Tables. First Team; PL2 ... 2023/24; 2022/23; 2021/22; 2020/21; 2019/20; 2018/19 ... A separate two-point deduction for a separate PSR breach is currently under ... Latest Premier League 2023-24 Table · Man City —22-7-3 — 76-32 — +44 — 73 · Arsenal — 22-5-5 — 75-26 — +49— 71 · Liverpool — 21-8-3 — 72-31 — +41 — 71 · Aston Villa ... 3 days ago ... Complete table of Premier League standings for the 2023/2024 Season, plus access to tables from past seasons and other Football leagues. Breaking Premier League news and in-depth analysis from the best newsroom in sports. Follow your favorite clubs. Get the latest injury updates, ... 7 days ago ... English Premier League table 2023/24 · 1. Manchester City, 73, 32, 76, +44 · 2. Arsenal, 71, 32, 75, +49 · 3. Liverpool, 71, 32, 72, +41 · 4. Aston ... View the latest standings and team form data in the Premier League 2023/2024 season with GOAL. Dec 23, 2023 ... Boxing Day will have no lack of English Premier League soccer action. Here are the current standings, schedule, and how to watch on Dec. 26. Congratulations to our champions, Manchester City! ePL 23/24 Final Standings. Menu.\u001b[0m\n",
      "Thought:\u001b[32;1m\u001b[1;3mI have found the current standings for the Premier League 2023-24 season. I will now summarize this information.\n",
      "\n",
      "Action: Summarizer\n",
      "Action Input: Latest Premier League 2023-24 Table: 1. Manchester City — 73 points, 32 games, 76 goals for, 32 goals against, +44 goal difference; 2. Arsenal — 71 points, 32 games, 75 goals for, 26 goals against, +49 goal difference; 3. Liverpool — 71 points, 32 games, 72 goals for, 31 goals against, +41 goal difference; 4. Aston Villa — points and stats not provided in the snippet.\u001b[0m\n",
      "Observation: \u001b[33;1m\u001b[1;3mcontent=\"Here's the summary of the latest Premier League 2023-24 table:\\n\\n1. Manchester City is leading with 73 points from 32 games, having scored 76 goals and conceded 32, with a goal difference of +44.\\n2. Arsenal is in second place with 71 points from 32 games, scoring 75 goals and conceding 26, resulting in a goal difference of +49.\\n3. Liverpool also has 71 points from 32 games, with 72 goals scored and 31 conceded, giving them a goal difference of +41.\\n4. Details for Aston Villa were not provided in the snippet.\" response_metadata={'token_usage': {'completion_tokens': 129, 'prompt_tokens': 142, 'total_tokens': 271}, 'model_name': 'gpt-4-turbo', 'system_fingerprint': 'fp_76f018034d', 'finish_reason': 'stop', 'logprobs': None} id='run-5371547b-e05a-47ff-a4e3-38e50d55c548-0'\u001b[0m\n",
      "Thought:\u001b[32;1m\u001b[1;3mI now know the final answer.\n",
      "\n",
      "Final Answer: Here's the summary of the latest Premier League 2023-24 table:\n",
      "1. Manchester City is leading with 73 points from 32 games, having scored 76 goals and conceded 32, with a goal difference of +44.\n",
      "2. Arsenal is in second place with 71 points from 32 games, scoring 75 goals and conceding 26, resulting in a goal difference of +49.\n",
      "3. Liverpool also has 71 points from 32 games, with 72 goals scored and 31 conceded, giving them a goal difference of +41.\n",
      "4. Details for Aston Villa were not provided in the snippet.\u001b[0m\n",
      "\n",
      "\u001b[1m> Finished chain.\u001b[0m\n"
     ]
    },
    {
     "data": {
      "text/markdown": [
       "Here's the summary of the latest Premier League 2023-24 table:\n",
       "1. Manchester City is leading with 73 points from 32 games, having scored 76 goals and conceded 32, with a goal difference of +44.\n",
       "2. Arsenal is in second place with 71 points from 32 games, scoring 75 goals and conceding 26, resulting in a goal difference of +49.\n",
       "3. Liverpool also has 71 points from 32 games, with 72 goals scored and 31 conceded, giving them a goal difference of +41.\n",
       "4. Details for Aston Villa were not provided in the snippet."
      ],
      "text/plain": [
       "<IPython.core.display.Markdown object>"
      ]
     },
     "metadata": {},
     "output_type": "display_data"
    }
   ],
   "source": [
    "display(Markdown(agent.invoke({\"input\": \"What are the current standings in the Premier League ? Summarize the information please.\"})[\"output\"]))\n"
   ]
  },
  {
   "cell_type": "code",
   "execution_count": 122,
   "metadata": {},
   "outputs": [
    {
     "name": "stdout",
     "output_type": "stream",
     "text": [
      "\n",
      "\n",
      "\u001b[1m> Entering new AgentExecutor chain...\u001b[0m\n",
      "\u001b[32;1m\u001b[1;3mI need to find the current top 10 teams in the Premier League. This information can be found by searching for the latest Premier League standings.\n",
      "\n",
      "Action: google-search\n",
      "Action Input: current top 10 teams in the Premier League 2023\u001b[0m\n",
      "Observation: \u001b[36;1m\u001b[1;3mStay up to date with the 2023/2024 Premier League table. Follow the top teams and make Eurosport your go-to source for Football tables and results. Latest Premier League 2023-24 Table · Man City —22-7-3 — 76-32 — +44 — 73 · Arsenal — 22-5-5 — 75-26 — +49— 71 · Liverpool — 21-8-3 — 72-31 — +41 — 71 · Aston Villa ... 1, Liverpool, 57.24. 2, Brighton, 54.84. 3, Everton ... 32, 11, 11, 10, 52, 50, 2, 44. W. Sunday 10 March 2024. BHA. 1-0. NFO. L ... This table charts the Premier League teams ... Back To Top. Premier League. The ... The following is a list of clubs who have played in the Premier League since its formation in 1993 to the current 2023–24 season. Over that span, 51 teams ... 10. 3 ... Premier League. Home · Fixtures · Results · Tables · Stats · News · Video · Watch Live · Clubs · Players · Transfers · Awards ... Back To Top. Premier ... Oct 17, 2023 ... The re-jigged Bobbers Stand is just the latest example of the club being dragged kicking and screaming into the next phase of modern football. “ ... The number of Premier League clubs featured in the Money League fell from at least 10 in the past two years to eight in the 2022/23 season. However, the ... Complete table of Premier League standings for the 2023/2024 Season, plus access to tables from past seasons and other Football leagues. May 31, 2023 ... A year ago, we valued 20 teams, which had an average appraisal of $2.53 billion. In contrast, this year's top 20 teams have an average value of ...\u001b[0m\n",
      "Thought:\u001b[32;1m\u001b[1;3mI have found the current standings for the top 10 teams in the Premier League for the 2023-2024 season. However, the information is a bit scattered and needs summarizing for clarity.\n",
      "\n",
      "Action: Summarizer\n",
      "Action Input: Latest Premier League 2023-24 Table · Man City —22-7-3 — 76-32 — +44 — 73 · Arsenal — 22-5-5 — 75-26 — +49— 71 · Liverpool — 21-8-3 — 72-31 — +41 — 71 · Aston Villa ...\u001b[0m\n",
      "Observation: \u001b[33;1m\u001b[1;3mcontent=\"The latest Premier League standings for the 2023-24 season are as follows:\\n- Manchester City is leading with 73 points from 22 wins, 7 draws, and 3 losses, scoring 76 goals and conceding 32 (+44 goal difference).\\n- Arsenal is close behind with 71 points, having won 22 games, drawn 5, and lost 5, with 75 goals scored and 26 conceded (+49 goal difference).\\n- Liverpool also has 71 points, from 21 wins, 8 draws, and 3 losses, scoring 72 goals and conceding 31 (+41 goal difference).\\n- Aston Villa's stats were not fully provided in the text.\" response_metadata={'token_usage': {'completion_tokens': 142, 'prompt_tokens': 105, 'total_tokens': 247}, 'model_name': 'gpt-4-turbo', 'system_fingerprint': 'fp_76f018034d', 'finish_reason': 'stop', 'logprobs': None} id='run-7c5e4510-9a41-474d-9aa0-c6897c4c57a0-0'\u001b[0m\n",
      "Thought:\u001b[32;1m\u001b[1;3mI now know the final answer based on the summarized standings of the Premier League for the 2023-24 season.\n",
      "\n",
      "Final Answer: The top three teams in the Premier League for the 2023-24 season are:\n",
      "1. Manchester City with 73 points (22 wins, 7 draws, 3 losses, 76 goals scored, 32 conceded, +44 goal difference).\n",
      "2. Arsenal with 71 points (22 wins, 5 draws, 5 losses, 75 goals scored, 26 conceded, +49 goal difference).\n",
      "3. Liverpool with 71 points (21 wins, 8 draws, 3 losses, 72 goals scored, 31 conceded, +41 goal difference).\n",
      "\n",
      "Unfortunately, the information for the remaining teams in the top 10 was not fully provided in the text.\u001b[0m\n",
      "\n",
      "\u001b[1m> Finished chain.\u001b[0m\n"
     ]
    },
    {
     "data": {
      "text/markdown": [
       "The top three teams in the Premier League for the 2023-24 season are:\n",
       "1. Manchester City with 73 points (22 wins, 7 draws, 3 losses, 76 goals scored, 32 conceded, +44 goal difference).\n",
       "2. Arsenal with 71 points (22 wins, 5 draws, 5 losses, 75 goals scored, 26 conceded, +49 goal difference).\n",
       "3. Liverpool with 71 points (21 wins, 8 draws, 3 losses, 72 goals scored, 31 conceded, +41 goal difference).\n",
       "\n",
       "Unfortunately, the information for the remaining teams in the top 10 was not fully provided in the text."
      ],
      "text/plain": [
       "<IPython.core.display.Markdown object>"
      ]
     },
     "metadata": {},
     "output_type": "display_data"
    }
   ],
   "source": [
    "display(Markdown(agent.invoke({\"input\": \"What are the top 10 teams in the Premier League ? Summarize the information please.\"})[\"output\"]))\n"
   ]
  },
  {
   "cell_type": "code",
   "execution_count": null,
   "metadata": {},
   "outputs": [],
   "source": []
  },
  {
   "cell_type": "code",
   "execution_count": null,
   "metadata": {},
   "outputs": [],
   "source": []
  },
  {
   "cell_type": "code",
   "execution_count": null,
   "metadata": {},
   "outputs": [],
   "source": []
  }
 ],
 "metadata": {
  "kernelspec": {
   "display_name": "langchain_venv",
   "language": "python",
   "name": "python3"
  },
  "language_info": {
   "codemirror_mode": {
    "name": "ipython",
    "version": 3
   },
   "file_extension": ".py",
   "mimetype": "text/x-python",
   "name": "python",
   "nbconvert_exporter": "python",
   "pygments_lexer": "ipython3",
   "version": "3.10.0"
  }
 },
 "nbformat": 4,
 "nbformat_minor": 2
}
